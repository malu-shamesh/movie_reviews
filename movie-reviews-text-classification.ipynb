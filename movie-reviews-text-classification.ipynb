{
 "cells": [
  {
   "cell_type": "code",
   "execution_count": 1,
   "id": "cecccd21",
   "metadata": {
    "_cell_guid": "b1076dfc-b9ad-4769-8c92-a6c4dae69d19",
    "_uuid": "8f2839f25d086af736a60e9eeb907d3b93b6e0e5",
    "execution": {
     "iopub.execute_input": "2025-01-05T14:00:57.708843Z",
     "iopub.status.busy": "2025-01-05T14:00:57.708443Z",
     "iopub.status.idle": "2025-01-05T14:00:57.719418Z",
     "shell.execute_reply": "2025-01-05T14:00:57.718504Z"
    },
    "papermill": {
     "duration": 0.022504,
     "end_time": "2025-01-05T14:00:57.721114",
     "exception": false,
     "start_time": "2025-01-05T14:00:57.698610",
     "status": "completed"
    },
    "tags": []
   },
   "outputs": [
    {
     "name": "stdout",
     "output_type": "stream",
     "text": [
      "/kaggle/input/imdb-dataset-of-50k-movie-reviews/IMDB Dataset.csv\n"
     ]
    }
   ],
   "source": [
    "# This Python 3 environment comes with many helpful analytics libraries installed\n",
    "# It is defined by the kaggle/python Docker image: https://github.com/kaggle/docker-python\n",
    "# For example, here's several helpful packages to load\n",
    "\n",
    "# Input data files are available in the read-only \"../input/\" directory\n",
    "# For example, running this (by clicking run or pressing Shift+Enter) will list all files under the input directory\n",
    "\n",
    "import os\n",
    "for dirname, _, filenames in os.walk('/kaggle/input'):\n",
    "    for filename in filenames:\n",
    "        print(os.path.join(dirname, filename))\n",
    "\n",
    "# You can write up to 20GB to the current directory (/kaggle/working/) that gets preserved as output when you create a version using \"Save & Run All\" \n",
    "# You can also write temporary files to /kaggle/temp/, but they won't be saved outside of the current session"
   ]
  },
  {
   "cell_type": "code",
   "execution_count": 2,
   "id": "7a907b7a",
   "metadata": {
    "execution": {
     "iopub.execute_input": "2025-01-05T14:00:57.736219Z",
     "iopub.status.busy": "2025-01-05T14:00:57.735825Z",
     "iopub.status.idle": "2025-01-05T14:01:00.125944Z",
     "shell.execute_reply": "2025-01-05T14:01:00.125004Z"
    },
    "papermill": {
     "duration": 2.39939,
     "end_time": "2025-01-05T14:01:00.127715",
     "exception": false,
     "start_time": "2025-01-05T14:00:57.728325",
     "status": "completed"
    },
    "tags": []
   },
   "outputs": [],
   "source": [
    "import numpy as np \n",
    "import pandas as pd \n",
    "import nltk\n",
    "import sklearn"
   ]
  },
  {
   "cell_type": "code",
   "execution_count": 3,
   "id": "6f81469d",
   "metadata": {
    "execution": {
     "iopub.execute_input": "2025-01-05T14:01:00.143269Z",
     "iopub.status.busy": "2025-01-05T14:01:00.142724Z",
     "iopub.status.idle": "2025-01-05T14:01:01.658489Z",
     "shell.execute_reply": "2025-01-05T14:01:01.657402Z"
    },
    "papermill": {
     "duration": 1.525237,
     "end_time": "2025-01-05T14:01:01.660115",
     "exception": false,
     "start_time": "2025-01-05T14:01:00.134878",
     "status": "completed"
    },
    "tags": []
   },
   "outputs": [
    {
     "data": {
      "text/html": [
       "<div>\n",
       "<style scoped>\n",
       "    .dataframe tbody tr th:only-of-type {\n",
       "        vertical-align: middle;\n",
       "    }\n",
       "\n",
       "    .dataframe tbody tr th {\n",
       "        vertical-align: top;\n",
       "    }\n",
       "\n",
       "    .dataframe thead th {\n",
       "        text-align: right;\n",
       "    }\n",
       "</style>\n",
       "<table border=\"1\" class=\"dataframe\">\n",
       "  <thead>\n",
       "    <tr style=\"text-align: right;\">\n",
       "      <th></th>\n",
       "      <th>review</th>\n",
       "      <th>sentiment</th>\n",
       "    </tr>\n",
       "  </thead>\n",
       "  <tbody>\n",
       "    <tr>\n",
       "      <th>0</th>\n",
       "      <td>One of the other reviewers has mentioned that ...</td>\n",
       "      <td>positive</td>\n",
       "    </tr>\n",
       "    <tr>\n",
       "      <th>1</th>\n",
       "      <td>A wonderful little production. &lt;br /&gt;&lt;br /&gt;The...</td>\n",
       "      <td>positive</td>\n",
       "    </tr>\n",
       "    <tr>\n",
       "      <th>2</th>\n",
       "      <td>I thought this was a wonderful way to spend ti...</td>\n",
       "      <td>positive</td>\n",
       "    </tr>\n",
       "    <tr>\n",
       "      <th>3</th>\n",
       "      <td>Basically there's a family where a little boy ...</td>\n",
       "      <td>negative</td>\n",
       "    </tr>\n",
       "    <tr>\n",
       "      <th>4</th>\n",
       "      <td>Petter Mattei's \"Love in the Time of Money\" is...</td>\n",
       "      <td>positive</td>\n",
       "    </tr>\n",
       "  </tbody>\n",
       "</table>\n",
       "</div>"
      ],
      "text/plain": [
       "                                              review sentiment\n",
       "0  One of the other reviewers has mentioned that ...  positive\n",
       "1  A wonderful little production. <br /><br />The...  positive\n",
       "2  I thought this was a wonderful way to spend ti...  positive\n",
       "3  Basically there's a family where a little boy ...  negative\n",
       "4  Petter Mattei's \"Love in the Time of Money\" is...  positive"
      ]
     },
     "execution_count": 3,
     "metadata": {},
     "output_type": "execute_result"
    }
   ],
   "source": [
    "# read the datafile\n",
    "df = pd.read_csv('/kaggle/input/imdb-dataset-of-50k-movie-reviews/IMDB Dataset.csv')\n",
    "df.head()"
   ]
  },
  {
   "cell_type": "code",
   "execution_count": 4,
   "id": "202a2fc7",
   "metadata": {
    "execution": {
     "iopub.execute_input": "2025-01-05T14:01:01.675221Z",
     "iopub.status.busy": "2025-01-05T14:01:01.674862Z",
     "iopub.status.idle": "2025-01-05T14:01:01.683559Z",
     "shell.execute_reply": "2025-01-05T14:01:01.682647Z"
    },
    "papermill": {
     "duration": 0.018139,
     "end_time": "2025-01-05T14:01:01.685293",
     "exception": false,
     "start_time": "2025-01-05T14:01:01.667154",
     "status": "completed"
    },
    "tags": []
   },
   "outputs": [
    {
     "data": {
      "text/html": [
       "<div>\n",
       "<style scoped>\n",
       "    .dataframe tbody tr th:only-of-type {\n",
       "        vertical-align: middle;\n",
       "    }\n",
       "\n",
       "    .dataframe tbody tr th {\n",
       "        vertical-align: top;\n",
       "    }\n",
       "\n",
       "    .dataframe thead th {\n",
       "        text-align: right;\n",
       "    }\n",
       "</style>\n",
       "<table border=\"1\" class=\"dataframe\">\n",
       "  <thead>\n",
       "    <tr style=\"text-align: right;\">\n",
       "      <th></th>\n",
       "      <th>review</th>\n",
       "      <th>sentiment</th>\n",
       "    </tr>\n",
       "  </thead>\n",
       "  <tbody>\n",
       "    <tr>\n",
       "      <th>0</th>\n",
       "      <td>One of the other reviewers has mentioned that ...</td>\n",
       "      <td>positive</td>\n",
       "    </tr>\n",
       "    <tr>\n",
       "      <th>1</th>\n",
       "      <td>A wonderful little production. &lt;br /&gt;&lt;br /&gt;The...</td>\n",
       "      <td>positive</td>\n",
       "    </tr>\n",
       "    <tr>\n",
       "      <th>2</th>\n",
       "      <td>I thought this was a wonderful way to spend ti...</td>\n",
       "      <td>positive</td>\n",
       "    </tr>\n",
       "    <tr>\n",
       "      <th>3</th>\n",
       "      <td>Basically there's a family where a little boy ...</td>\n",
       "      <td>negative</td>\n",
       "    </tr>\n",
       "    <tr>\n",
       "      <th>4</th>\n",
       "      <td>Petter Mattei's \"Love in the Time of Money\" is...</td>\n",
       "      <td>positive</td>\n",
       "    </tr>\n",
       "  </tbody>\n",
       "</table>\n",
       "</div>"
      ],
      "text/plain": [
       "                                              review sentiment\n",
       "0  One of the other reviewers has mentioned that ...  positive\n",
       "1  A wonderful little production. <br /><br />The...  positive\n",
       "2  I thought this was a wonderful way to spend ti...  positive\n",
       "3  Basically there's a family where a little boy ...  negative\n",
       "4  Petter Mattei's \"Love in the Time of Money\" is...  positive"
      ]
     },
     "execution_count": 4,
     "metadata": {},
     "output_type": "execute_result"
    }
   ],
   "source": [
    "df = df.iloc[:30000]\n",
    "df.head()"
   ]
  },
  {
   "cell_type": "code",
   "execution_count": 5,
   "id": "8cc0e1c5",
   "metadata": {
    "execution": {
     "iopub.execute_input": "2025-01-05T14:01:01.700762Z",
     "iopub.status.busy": "2025-01-05T14:01:01.700423Z",
     "iopub.status.idle": "2025-01-05T14:01:01.705863Z",
     "shell.execute_reply": "2025-01-05T14:01:01.705061Z"
    },
    "papermill": {
     "duration": 0.014789,
     "end_time": "2025-01-05T14:01:01.707406",
     "exception": false,
     "start_time": "2025-01-05T14:01:01.692617",
     "status": "completed"
    },
    "tags": []
   },
   "outputs": [
    {
     "data": {
      "text/plain": [
       "(30000, 2)"
      ]
     },
     "execution_count": 5,
     "metadata": {},
     "output_type": "execute_result"
    }
   ],
   "source": [
    "df.shape"
   ]
  },
  {
   "cell_type": "code",
   "execution_count": 6,
   "id": "a45416a4",
   "metadata": {
    "execution": {
     "iopub.execute_input": "2025-01-05T14:01:01.723091Z",
     "iopub.status.busy": "2025-01-05T14:01:01.722678Z",
     "iopub.status.idle": "2025-01-05T14:01:01.729189Z",
     "shell.execute_reply": "2025-01-05T14:01:01.728030Z"
    },
    "papermill": {
     "duration": 0.016309,
     "end_time": "2025-01-05T14:01:01.730915",
     "exception": false,
     "start_time": "2025-01-05T14:01:01.714606",
     "status": "completed"
    },
    "tags": []
   },
   "outputs": [
    {
     "data": {
      "text/plain": [
       "\"One of the other reviewers has mentioned that after watching just 1 Oz episode you'll be hooked. They are right, as this is exactly what happened with me.<br /><br />The first thing that struck me about Oz was its brutality and unflinching scenes of violence, which set in right from the word GO. Trust me, this is not a show for the faint hearted or timid. This show pulls no punches with regards to drugs, sex or violence. Its is hardcore, in the classic use of the word.<br /><br />It is called OZ as that is the nickname given to the Oswald Maximum Security State Penitentary. It focuses mainly on Emerald City, an experimental section of the prison where all the cells have glass fronts and face inwards, so privacy is not high on the agenda. Em City is home to many..Aryans, Muslims, gangstas, Latinos, Christians, Italians, Irish and more....so scuffles, death stares, dodgy dealings and shady agreements are never far away.<br /><br />I would say the main appeal of the show is due to the fact that it goes where other shows wouldn't dare. Forget pretty pictures painted for mainstream audiences, forget charm, forget romance...OZ doesn't mess around. The first episode I ever saw struck me as so nasty it was surreal, I couldn't say I was ready for it, but as I watched more, I developed a taste for Oz, and got accustomed to the high levels of graphic violence. Not just violence, but injustice (crooked guards who'll be sold out for a nickel, inmates who'll kill on order and get away with it, well mannered, middle class inmates being turned into prison bitches due to their lack of street skills or prison experience) Watching Oz, you may become comfortable with what is uncomfortable viewing....thats if you can get in touch with your darker side.\""
      ]
     },
     "execution_count": 6,
     "metadata": {},
     "output_type": "execute_result"
    }
   ],
   "source": [
    "df['review'][0]"
   ]
  },
  {
   "cell_type": "code",
   "execution_count": 7,
   "id": "fd09b4fa",
   "metadata": {
    "execution": {
     "iopub.execute_input": "2025-01-05T14:01:01.747104Z",
     "iopub.status.busy": "2025-01-05T14:01:01.746742Z",
     "iopub.status.idle": "2025-01-05T14:01:01.764943Z",
     "shell.execute_reply": "2025-01-05T14:01:01.763742Z"
    },
    "papermill": {
     "duration": 0.028667,
     "end_time": "2025-01-05T14:01:01.767241",
     "exception": false,
     "start_time": "2025-01-05T14:01:01.738574",
     "status": "completed"
    },
    "tags": []
   },
   "outputs": [
    {
     "data": {
      "text/plain": [
       "sentiment\n",
       "positive    15015\n",
       "negative    14985\n",
       "Name: count, dtype: int64"
      ]
     },
     "execution_count": 7,
     "metadata": {},
     "output_type": "execute_result"
    }
   ],
   "source": [
    "df['sentiment'].value_counts()"
   ]
  },
  {
   "cell_type": "code",
   "execution_count": 8,
   "id": "d1d496e3",
   "metadata": {
    "execution": {
     "iopub.execute_input": "2025-01-05T14:01:01.783728Z",
     "iopub.status.busy": "2025-01-05T14:01:01.783376Z",
     "iopub.status.idle": "2025-01-05T14:01:01.796893Z",
     "shell.execute_reply": "2025-01-05T14:01:01.796051Z"
    },
    "papermill": {
     "duration": 0.023655,
     "end_time": "2025-01-05T14:01:01.798543",
     "exception": false,
     "start_time": "2025-01-05T14:01:01.774888",
     "status": "completed"
    },
    "tags": []
   },
   "outputs": [
    {
     "data": {
      "text/plain": [
       "review       0\n",
       "sentiment    0\n",
       "dtype: int64"
      ]
     },
     "execution_count": 8,
     "metadata": {},
     "output_type": "execute_result"
    }
   ],
   "source": [
    "df.isnull().sum()"
   ]
  },
  {
   "cell_type": "code",
   "execution_count": 9,
   "id": "f331d1a9",
   "metadata": {
    "execution": {
     "iopub.execute_input": "2025-01-05T14:01:01.814872Z",
     "iopub.status.busy": "2025-01-05T14:01:01.814528Z",
     "iopub.status.idle": "2025-01-05T14:01:01.936138Z",
     "shell.execute_reply": "2025-01-05T14:01:01.935086Z"
    },
    "papermill": {
     "duration": 0.131749,
     "end_time": "2025-01-05T14:01:01.938009",
     "exception": false,
     "start_time": "2025-01-05T14:01:01.806260",
     "status": "completed"
    },
    "tags": []
   },
   "outputs": [
    {
     "data": {
      "text/plain": [
       "146"
      ]
     },
     "execution_count": 9,
     "metadata": {},
     "output_type": "execute_result"
    }
   ],
   "source": [
    "df.duplicated().sum()"
   ]
  },
  {
   "cell_type": "code",
   "execution_count": 10,
   "id": "a27ebdf5",
   "metadata": {
    "execution": {
     "iopub.execute_input": "2025-01-05T14:01:01.955293Z",
     "iopub.status.busy": "2025-01-05T14:01:01.954886Z",
     "iopub.status.idle": "2025-01-05T14:01:02.065848Z",
     "shell.execute_reply": "2025-01-05T14:01:02.064795Z"
    },
    "papermill": {
     "duration": 0.121433,
     "end_time": "2025-01-05T14:01:02.067776",
     "exception": false,
     "start_time": "2025-01-05T14:01:01.946343",
     "status": "completed"
    },
    "tags": []
   },
   "outputs": [],
   "source": [
    "df.drop_duplicates(inplace=True)"
   ]
  },
  {
   "cell_type": "code",
   "execution_count": 11,
   "id": "de984d0e",
   "metadata": {
    "execution": {
     "iopub.execute_input": "2025-01-05T14:01:02.084394Z",
     "iopub.status.busy": "2025-01-05T14:01:02.084059Z",
     "iopub.status.idle": "2025-01-05T14:01:02.092814Z",
     "shell.execute_reply": "2025-01-05T14:01:02.091640Z"
    },
    "papermill": {
     "duration": 0.019076,
     "end_time": "2025-01-05T14:01:02.094697",
     "exception": false,
     "start_time": "2025-01-05T14:01:02.075621",
     "status": "completed"
    },
    "tags": []
   },
   "outputs": [
    {
     "data": {
      "text/plain": [
       "sentiment\n",
       "positive    14979\n",
       "negative    14875\n",
       "Name: count, dtype: int64"
      ]
     },
     "execution_count": 11,
     "metadata": {},
     "output_type": "execute_result"
    }
   ],
   "source": [
    "df['sentiment'].value_counts()"
   ]
  },
  {
   "cell_type": "markdown",
   "id": "0b7c0cd8",
   "metadata": {
    "papermill": {
     "duration": 0.007395,
     "end_time": "2025-01-05T14:01:02.110288",
     "exception": false,
     "start_time": "2025-01-05T14:01:02.102893",
     "status": "completed"
    },
    "tags": []
   },
   "source": [
    "# PREPROCESSING"
   ]
  },
  {
   "cell_type": "code",
   "execution_count": 12,
   "id": "aea42adf",
   "metadata": {
    "execution": {
     "iopub.execute_input": "2025-01-05T14:01:02.128676Z",
     "iopub.status.busy": "2025-01-05T14:01:02.128319Z",
     "iopub.status.idle": "2025-01-05T14:01:02.132671Z",
     "shell.execute_reply": "2025-01-05T14:01:02.131638Z"
    },
    "papermill": {
     "duration": 0.014693,
     "end_time": "2025-01-05T14:01:02.134593",
     "exception": false,
     "start_time": "2025-01-05T14:01:02.119900",
     "status": "completed"
    },
    "tags": []
   },
   "outputs": [],
   "source": [
    "import re\n",
    "def remove_tags(raw_text):\n",
    "    cleaned_text = re.sub(re.compile('<.*?>'), '', raw_text)\n",
    "    return cleaned_text"
   ]
  },
  {
   "cell_type": "code",
   "execution_count": 13,
   "id": "10d00f4f",
   "metadata": {
    "execution": {
     "iopub.execute_input": "2025-01-05T14:01:02.151658Z",
     "iopub.status.busy": "2025-01-05T14:01:02.151288Z",
     "iopub.status.idle": "2025-01-05T14:01:02.307308Z",
     "shell.execute_reply": "2025-01-05T14:01:02.306306Z"
    },
    "papermill": {
     "duration": 0.166637,
     "end_time": "2025-01-05T14:01:02.309252",
     "exception": false,
     "start_time": "2025-01-05T14:01:02.142615",
     "status": "completed"
    },
    "tags": []
   },
   "outputs": [],
   "source": [
    "df['review'] = df['review'].apply(remove_tags)"
   ]
  },
  {
   "cell_type": "code",
   "execution_count": 14,
   "id": "2f225b7d",
   "metadata": {
    "execution": {
     "iopub.execute_input": "2025-01-05T14:01:02.326623Z",
     "iopub.status.busy": "2025-01-05T14:01:02.326282Z",
     "iopub.status.idle": "2025-01-05T14:01:02.334855Z",
     "shell.execute_reply": "2025-01-05T14:01:02.333890Z"
    },
    "papermill": {
     "duration": 0.01908,
     "end_time": "2025-01-05T14:01:02.336434",
     "exception": false,
     "start_time": "2025-01-05T14:01:02.317354",
     "status": "completed"
    },
    "tags": []
   },
   "outputs": [
    {
     "data": {
      "text/html": [
       "<div>\n",
       "<style scoped>\n",
       "    .dataframe tbody tr th:only-of-type {\n",
       "        vertical-align: middle;\n",
       "    }\n",
       "\n",
       "    .dataframe tbody tr th {\n",
       "        vertical-align: top;\n",
       "    }\n",
       "\n",
       "    .dataframe thead th {\n",
       "        text-align: right;\n",
       "    }\n",
       "</style>\n",
       "<table border=\"1\" class=\"dataframe\">\n",
       "  <thead>\n",
       "    <tr style=\"text-align: right;\">\n",
       "      <th></th>\n",
       "      <th>review</th>\n",
       "      <th>sentiment</th>\n",
       "    </tr>\n",
       "  </thead>\n",
       "  <tbody>\n",
       "    <tr>\n",
       "      <th>0</th>\n",
       "      <td>One of the other reviewers has mentioned that ...</td>\n",
       "      <td>positive</td>\n",
       "    </tr>\n",
       "    <tr>\n",
       "      <th>1</th>\n",
       "      <td>A wonderful little production. The filming tec...</td>\n",
       "      <td>positive</td>\n",
       "    </tr>\n",
       "    <tr>\n",
       "      <th>2</th>\n",
       "      <td>I thought this was a wonderful way to spend ti...</td>\n",
       "      <td>positive</td>\n",
       "    </tr>\n",
       "    <tr>\n",
       "      <th>3</th>\n",
       "      <td>Basically there's a family where a little boy ...</td>\n",
       "      <td>negative</td>\n",
       "    </tr>\n",
       "    <tr>\n",
       "      <th>4</th>\n",
       "      <td>Petter Mattei's \"Love in the Time of Money\" is...</td>\n",
       "      <td>positive</td>\n",
       "    </tr>\n",
       "  </tbody>\n",
       "</table>\n",
       "</div>"
      ],
      "text/plain": [
       "                                              review sentiment\n",
       "0  One of the other reviewers has mentioned that ...  positive\n",
       "1  A wonderful little production. The filming tec...  positive\n",
       "2  I thought this was a wonderful way to spend ti...  positive\n",
       "3  Basically there's a family where a little boy ...  negative\n",
       "4  Petter Mattei's \"Love in the Time of Money\" is...  positive"
      ]
     },
     "execution_count": 14,
     "metadata": {},
     "output_type": "execute_result"
    }
   ],
   "source": [
    "df.head()"
   ]
  },
  {
   "cell_type": "code",
   "execution_count": 15,
   "id": "ec771bc4",
   "metadata": {
    "execution": {
     "iopub.execute_input": "2025-01-05T14:01:02.353207Z",
     "iopub.status.busy": "2025-01-05T14:01:02.352812Z",
     "iopub.status.idle": "2025-01-05T14:01:02.360479Z",
     "shell.execute_reply": "2025-01-05T14:01:02.359589Z"
    },
    "papermill": {
     "duration": 0.017782,
     "end_time": "2025-01-05T14:01:02.362086",
     "exception": false,
     "start_time": "2025-01-05T14:01:02.344304",
     "status": "completed"
    },
    "tags": []
   },
   "outputs": [
    {
     "data": {
      "text/plain": [
       "\"One of the other reviewers has mentioned that after watching just 1 Oz episode you'll be hooked. They are right, as this is exactly what happened with me.The first thing that struck me about Oz was its brutality and unflinching scenes of violence, which set in right from the word GO. Trust me, this is not a show for the faint hearted or timid. This show pulls no punches with regards to drugs, sex or violence. Its is hardcore, in the classic use of the word.It is called OZ as that is the nickname given to the Oswald Maximum Security State Penitentary. It focuses mainly on Emerald City, an experimental section of the prison where all the cells have glass fronts and face inwards, so privacy is not high on the agenda. Em City is home to many..Aryans, Muslims, gangstas, Latinos, Christians, Italians, Irish and more....so scuffles, death stares, dodgy dealings and shady agreements are never far away.I would say the main appeal of the show is due to the fact that it goes where other shows wouldn't dare. Forget pretty pictures painted for mainstream audiences, forget charm, forget romance...OZ doesn't mess around. The first episode I ever saw struck me as so nasty it was surreal, I couldn't say I was ready for it, but as I watched more, I developed a taste for Oz, and got accustomed to the high levels of graphic violence. Not just violence, but injustice (crooked guards who'll be sold out for a nickel, inmates who'll kill on order and get away with it, well mannered, middle class inmates being turned into prison bitches due to their lack of street skills or prison experience) Watching Oz, you may become comfortable with what is uncomfortable viewing....thats if you can get in touch with your darker side.\""
      ]
     },
     "execution_count": 15,
     "metadata": {},
     "output_type": "execute_result"
    }
   ],
   "source": [
    "df['review'][0]"
   ]
  },
  {
   "cell_type": "code",
   "execution_count": 16,
   "id": "e9d8dc67",
   "metadata": {
    "execution": {
     "iopub.execute_input": "2025-01-05T14:01:02.379842Z",
     "iopub.status.busy": "2025-01-05T14:01:02.379522Z",
     "iopub.status.idle": "2025-01-05T14:01:02.482502Z",
     "shell.execute_reply": "2025-01-05T14:01:02.481576Z"
    },
    "papermill": {
     "duration": 0.114133,
     "end_time": "2025-01-05T14:01:02.484452",
     "exception": false,
     "start_time": "2025-01-05T14:01:02.370319",
     "status": "completed"
    },
    "tags": []
   },
   "outputs": [],
   "source": [
    "df['review'] = df['review'].apply(lambda x:x.lower())"
   ]
  },
  {
   "cell_type": "code",
   "execution_count": 17,
   "id": "c1996e6e",
   "metadata": {
    "execution": {
     "iopub.execute_input": "2025-01-05T14:01:02.501406Z",
     "iopub.status.busy": "2025-01-05T14:01:02.501081Z",
     "iopub.status.idle": "2025-01-05T14:01:02.506347Z",
     "shell.execute_reply": "2025-01-05T14:01:02.505424Z"
    },
    "papermill": {
     "duration": 0.01541,
     "end_time": "2025-01-05T14:01:02.507817",
     "exception": false,
     "start_time": "2025-01-05T14:01:02.492407",
     "status": "completed"
    },
    "tags": []
   },
   "outputs": [
    {
     "data": {
      "text/plain": [
       "\"one of the other reviewers has mentioned that after watching just 1 oz episode you'll be hooked. they are right, as this is exactly what happened with me.the first thing that struck me about oz was its brutality and unflinching scenes of violence, which set in right from the word go. trust me, this is not a show for the faint hearted or timid. this show pulls no punches with regards to drugs, sex or violence. its is hardcore, in the classic use of the word.it is called oz as that is the nickname given to the oswald maximum security state penitentary. it focuses mainly on emerald city, an experimental section of the prison where all the cells have glass fronts and face inwards, so privacy is not high on the agenda. em city is home to many..aryans, muslims, gangstas, latinos, christians, italians, irish and more....so scuffles, death stares, dodgy dealings and shady agreements are never far away.i would say the main appeal of the show is due to the fact that it goes where other shows wouldn't dare. forget pretty pictures painted for mainstream audiences, forget charm, forget romance...oz doesn't mess around. the first episode i ever saw struck me as so nasty it was surreal, i couldn't say i was ready for it, but as i watched more, i developed a taste for oz, and got accustomed to the high levels of graphic violence. not just violence, but injustice (crooked guards who'll be sold out for a nickel, inmates who'll kill on order and get away with it, well mannered, middle class inmates being turned into prison bitches due to their lack of street skills or prison experience) watching oz, you may become comfortable with what is uncomfortable viewing....thats if you can get in touch with your darker side.\""
      ]
     },
     "execution_count": 17,
     "metadata": {},
     "output_type": "execute_result"
    }
   ],
   "source": [
    "df['review'][0]"
   ]
  },
  {
   "cell_type": "code",
   "execution_count": 18,
   "id": "02b47d05",
   "metadata": {
    "execution": {
     "iopub.execute_input": "2025-01-05T14:01:02.525107Z",
     "iopub.status.busy": "2025-01-05T14:01:02.524738Z",
     "iopub.status.idle": "2025-01-05T14:01:16.609950Z",
     "shell.execute_reply": "2025-01-05T14:01:16.608901Z"
    },
    "papermill": {
     "duration": 14.095765,
     "end_time": "2025-01-05T14:01:16.611750",
     "exception": false,
     "start_time": "2025-01-05T14:01:02.515985",
     "status": "completed"
    },
    "tags": []
   },
   "outputs": [
    {
     "name": "stdout",
     "output_type": "stream",
     "text": [
      "[nltk_data] Downloading package stopwords to /usr/share/nltk_data...\n",
      "[nltk_data]   Package stopwords is already up-to-date!\n"
     ]
    }
   ],
   "source": [
    "from nltk.corpus import stopwords\n",
    "\n",
    "nltk.download('stopwords')\n",
    "sw_list = stopwords.words('english')\n",
    "\n",
    "df['review'] = df['review'].apply(lambda x: [item for item in x.split() if item not in sw_list]).apply(lambda x: \" \".join(x))"
   ]
  },
  {
   "cell_type": "code",
   "execution_count": 19,
   "id": "b027c5df",
   "metadata": {
    "execution": {
     "iopub.execute_input": "2025-01-05T14:01:16.629818Z",
     "iopub.status.busy": "2025-01-05T14:01:16.629478Z",
     "iopub.status.idle": "2025-01-05T14:01:16.634893Z",
     "shell.execute_reply": "2025-01-05T14:01:16.634131Z"
    },
    "papermill": {
     "duration": 0.016118,
     "end_time": "2025-01-05T14:01:16.636426",
     "exception": false,
     "start_time": "2025-01-05T14:01:16.620308",
     "status": "completed"
    },
    "tags": []
   },
   "outputs": [
    {
     "data": {
      "text/plain": [
       "\"one reviewers mentioned watching 1 oz episode hooked. right, exactly happened me.the first thing struck oz brutality unflinching scenes violence, set right word go. trust me, show faint hearted timid. show pulls punches regards drugs, sex violence. hardcore, classic use word.it called oz nickname given oswald maximum security state penitentary. focuses mainly emerald city, experimental section prison cells glass fronts face inwards, privacy high agenda. em city home many..aryans, muslims, gangstas, latinos, christians, italians, irish more....so scuffles, death stares, dodgy dealings shady agreements never far away.i would say main appeal show due fact goes shows dare. forget pretty pictures painted mainstream audiences, forget charm, forget romance...oz mess around. first episode ever saw struck nasty surreal, say ready it, watched more, developed taste oz, got accustomed high levels graphic violence. violence, injustice (crooked guards who'll sold nickel, inmates who'll kill order get away it, well mannered, middle class inmates turned prison bitches due lack street skills prison experience) watching oz, may become comfortable uncomfortable viewing....thats get touch darker side.\""
      ]
     },
     "execution_count": 19,
     "metadata": {},
     "output_type": "execute_result"
    }
   ],
   "source": [
    "df['review'][0]"
   ]
  },
  {
   "cell_type": "code",
   "execution_count": 20,
   "id": "d6d45099",
   "metadata": {
    "execution": {
     "iopub.execute_input": "2025-01-05T14:01:16.653495Z",
     "iopub.status.busy": "2025-01-05T14:01:16.653183Z",
     "iopub.status.idle": "2025-01-05T14:01:16.661373Z",
     "shell.execute_reply": "2025-01-05T14:01:16.660476Z"
    },
    "papermill": {
     "duration": 0.018228,
     "end_time": "2025-01-05T14:01:16.662750",
     "exception": false,
     "start_time": "2025-01-05T14:01:16.644522",
     "status": "completed"
    },
    "tags": []
   },
   "outputs": [
    {
     "data": {
      "text/html": [
       "<div>\n",
       "<style scoped>\n",
       "    .dataframe tbody tr th:only-of-type {\n",
       "        vertical-align: middle;\n",
       "    }\n",
       "\n",
       "    .dataframe tbody tr th {\n",
       "        vertical-align: top;\n",
       "    }\n",
       "\n",
       "    .dataframe thead th {\n",
       "        text-align: right;\n",
       "    }\n",
       "</style>\n",
       "<table border=\"1\" class=\"dataframe\">\n",
       "  <thead>\n",
       "    <tr style=\"text-align: right;\">\n",
       "      <th></th>\n",
       "      <th>review</th>\n",
       "      <th>sentiment</th>\n",
       "    </tr>\n",
       "  </thead>\n",
       "  <tbody>\n",
       "    <tr>\n",
       "      <th>0</th>\n",
       "      <td>one reviewers mentioned watching 1 oz episode ...</td>\n",
       "      <td>positive</td>\n",
       "    </tr>\n",
       "    <tr>\n",
       "      <th>1</th>\n",
       "      <td>wonderful little production. filming technique...</td>\n",
       "      <td>positive</td>\n",
       "    </tr>\n",
       "    <tr>\n",
       "      <th>2</th>\n",
       "      <td>thought wonderful way spend time hot summer we...</td>\n",
       "      <td>positive</td>\n",
       "    </tr>\n",
       "    <tr>\n",
       "      <th>3</th>\n",
       "      <td>basically there's family little boy (jake) thi...</td>\n",
       "      <td>negative</td>\n",
       "    </tr>\n",
       "    <tr>\n",
       "      <th>4</th>\n",
       "      <td>petter mattei's \"love time money\" visually stu...</td>\n",
       "      <td>positive</td>\n",
       "    </tr>\n",
       "  </tbody>\n",
       "</table>\n",
       "</div>"
      ],
      "text/plain": [
       "                                              review sentiment\n",
       "0  one reviewers mentioned watching 1 oz episode ...  positive\n",
       "1  wonderful little production. filming technique...  positive\n",
       "2  thought wonderful way spend time hot summer we...  positive\n",
       "3  basically there's family little boy (jake) thi...  negative\n",
       "4  petter mattei's \"love time money\" visually stu...  positive"
      ]
     },
     "execution_count": 20,
     "metadata": {},
     "output_type": "execute_result"
    }
   ],
   "source": [
    "df.head()"
   ]
  },
  {
   "cell_type": "code",
   "execution_count": 21,
   "id": "3c2afabb",
   "metadata": {
    "execution": {
     "iopub.execute_input": "2025-01-05T14:01:16.680248Z",
     "iopub.status.busy": "2025-01-05T14:01:16.679848Z",
     "iopub.status.idle": "2025-01-05T14:01:16.685635Z",
     "shell.execute_reply": "2025-01-05T14:01:16.684802Z"
    },
    "papermill": {
     "duration": 0.016144,
     "end_time": "2025-01-05T14:01:16.687114",
     "exception": false,
     "start_time": "2025-01-05T14:01:16.670970",
     "status": "completed"
    },
    "tags": []
   },
   "outputs": [],
   "source": [
    "x = df.iloc[:,0:1]\n",
    "y = df['sentiment']"
   ]
  },
  {
   "cell_type": "code",
   "execution_count": 22,
   "id": "7207ccc0",
   "metadata": {
    "execution": {
     "iopub.execute_input": "2025-01-05T14:01:16.704722Z",
     "iopub.status.busy": "2025-01-05T14:01:16.704412Z",
     "iopub.status.idle": "2025-01-05T14:01:16.712233Z",
     "shell.execute_reply": "2025-01-05T14:01:16.711346Z"
    },
    "papermill": {
     "duration": 0.018313,
     "end_time": "2025-01-05T14:01:16.713739",
     "exception": false,
     "start_time": "2025-01-05T14:01:16.695426",
     "status": "completed"
    },
    "tags": []
   },
   "outputs": [
    {
     "data": {
      "text/html": [
       "<div>\n",
       "<style scoped>\n",
       "    .dataframe tbody tr th:only-of-type {\n",
       "        vertical-align: middle;\n",
       "    }\n",
       "\n",
       "    .dataframe tbody tr th {\n",
       "        vertical-align: top;\n",
       "    }\n",
       "\n",
       "    .dataframe thead th {\n",
       "        text-align: right;\n",
       "    }\n",
       "</style>\n",
       "<table border=\"1\" class=\"dataframe\">\n",
       "  <thead>\n",
       "    <tr style=\"text-align: right;\">\n",
       "      <th></th>\n",
       "      <th>review</th>\n",
       "    </tr>\n",
       "  </thead>\n",
       "  <tbody>\n",
       "    <tr>\n",
       "      <th>0</th>\n",
       "      <td>one reviewers mentioned watching 1 oz episode ...</td>\n",
       "    </tr>\n",
       "    <tr>\n",
       "      <th>1</th>\n",
       "      <td>wonderful little production. filming technique...</td>\n",
       "    </tr>\n",
       "    <tr>\n",
       "      <th>2</th>\n",
       "      <td>thought wonderful way spend time hot summer we...</td>\n",
       "    </tr>\n",
       "    <tr>\n",
       "      <th>3</th>\n",
       "      <td>basically there's family little boy (jake) thi...</td>\n",
       "    </tr>\n",
       "    <tr>\n",
       "      <th>4</th>\n",
       "      <td>petter mattei's \"love time money\" visually stu...</td>\n",
       "    </tr>\n",
       "  </tbody>\n",
       "</table>\n",
       "</div>"
      ],
      "text/plain": [
       "                                              review\n",
       "0  one reviewers mentioned watching 1 oz episode ...\n",
       "1  wonderful little production. filming technique...\n",
       "2  thought wonderful way spend time hot summer we...\n",
       "3  basically there's family little boy (jake) thi...\n",
       "4  petter mattei's \"love time money\" visually stu..."
      ]
     },
     "execution_count": 22,
     "metadata": {},
     "output_type": "execute_result"
    }
   ],
   "source": [
    "x.head()"
   ]
  },
  {
   "cell_type": "code",
   "execution_count": 23,
   "id": "0e279823",
   "metadata": {
    "execution": {
     "iopub.execute_input": "2025-01-05T14:01:16.731842Z",
     "iopub.status.busy": "2025-01-05T14:01:16.731516Z",
     "iopub.status.idle": "2025-01-05T14:01:16.738426Z",
     "shell.execute_reply": "2025-01-05T14:01:16.737420Z"
    },
    "papermill": {
     "duration": 0.017941,
     "end_time": "2025-01-05T14:01:16.740188",
     "exception": false,
     "start_time": "2025-01-05T14:01:16.722247",
     "status": "completed"
    },
    "tags": []
   },
   "outputs": [
    {
     "data": {
      "text/plain": [
       "0        positive\n",
       "1        positive\n",
       "2        positive\n",
       "3        negative\n",
       "4        positive\n",
       "           ...   \n",
       "29995    positive\n",
       "29996    negative\n",
       "29997    negative\n",
       "29998    positive\n",
       "29999    negative\n",
       "Name: sentiment, Length: 29854, dtype: object"
      ]
     },
     "execution_count": 23,
     "metadata": {},
     "output_type": "execute_result"
    }
   ],
   "source": [
    "y"
   ]
  },
  {
   "cell_type": "code",
   "execution_count": 24,
   "id": "2ae00fc1",
   "metadata": {
    "execution": {
     "iopub.execute_input": "2025-01-05T14:01:16.758643Z",
     "iopub.status.busy": "2025-01-05T14:01:16.758332Z",
     "iopub.status.idle": "2025-01-05T14:01:16.768076Z",
     "shell.execute_reply": "2025-01-05T14:01:16.767263Z"
    },
    "papermill": {
     "duration": 0.020578,
     "end_time": "2025-01-05T14:01:16.769424",
     "exception": false,
     "start_time": "2025-01-05T14:01:16.748846",
     "status": "completed"
    },
    "tags": []
   },
   "outputs": [],
   "source": [
    "from sklearn.preprocessing import LabelEncoder\n",
    "encoder = LabelEncoder()\n",
    "y=encoder.fit_transform(y)"
   ]
  },
  {
   "cell_type": "code",
   "execution_count": 25,
   "id": "a0a51408",
   "metadata": {
    "execution": {
     "iopub.execute_input": "2025-01-05T14:01:16.787436Z",
     "iopub.status.busy": "2025-01-05T14:01:16.787103Z",
     "iopub.status.idle": "2025-01-05T14:01:16.796225Z",
     "shell.execute_reply": "2025-01-05T14:01:16.795429Z"
    },
    "papermill": {
     "duration": 0.019855,
     "end_time": "2025-01-05T14:01:16.797819",
     "exception": false,
     "start_time": "2025-01-05T14:01:16.777964",
     "status": "completed"
    },
    "tags": []
   },
   "outputs": [],
   "source": [
    "from sklearn.model_selection import train_test_split\n",
    "x_train,x_test,y_train,y_test = train_test_split(x,y,test_size=0.2,random_state=1)"
   ]
  },
  {
   "cell_type": "code",
   "execution_count": 26,
   "id": "91dc0bce",
   "metadata": {
    "execution": {
     "iopub.execute_input": "2025-01-05T14:01:16.816089Z",
     "iopub.status.busy": "2025-01-05T14:01:16.815726Z",
     "iopub.status.idle": "2025-01-05T14:01:16.821281Z",
     "shell.execute_reply": "2025-01-05T14:01:16.820281Z"
    },
    "papermill": {
     "duration": 0.01617,
     "end_time": "2025-01-05T14:01:16.822855",
     "exception": false,
     "start_time": "2025-01-05T14:01:16.806685",
     "status": "completed"
    },
    "tags": []
   },
   "outputs": [
    {
     "data": {
      "text/plain": [
       "(23883, 1)"
      ]
     },
     "execution_count": 26,
     "metadata": {},
     "output_type": "execute_result"
    }
   ],
   "source": [
    "x_train.shape"
   ]
  },
  {
   "cell_type": "code",
   "execution_count": 27,
   "id": "e8a1b51d",
   "metadata": {
    "execution": {
     "iopub.execute_input": "2025-01-05T14:01:16.841435Z",
     "iopub.status.busy": "2025-01-05T14:01:16.841102Z",
     "iopub.status.idle": "2025-01-05T14:01:16.846352Z",
     "shell.execute_reply": "2025-01-05T14:01:16.845398Z"
    },
    "papermill": {
     "duration": 0.016266,
     "end_time": "2025-01-05T14:01:16.848000",
     "exception": false,
     "start_time": "2025-01-05T14:01:16.831734",
     "status": "completed"
    },
    "tags": []
   },
   "outputs": [
    {
     "data": {
      "text/plain": [
       "(5971, 1)"
      ]
     },
     "execution_count": 27,
     "metadata": {},
     "output_type": "execute_result"
    }
   ],
   "source": [
    "x_test.shape"
   ]
  },
  {
   "cell_type": "markdown",
   "id": "1529ca11",
   "metadata": {
    "papermill": {
     "duration": 0.008222,
     "end_time": "2025-01-05T14:01:16.864746",
     "exception": false,
     "start_time": "2025-01-05T14:01:16.856524",
     "status": "completed"
    },
    "tags": []
   },
   "source": [
    "## BoW"
   ]
  },
  {
   "cell_type": "code",
   "execution_count": 28,
   "id": "5bdb4790",
   "metadata": {
    "execution": {
     "iopub.execute_input": "2025-01-05T14:01:16.882788Z",
     "iopub.status.busy": "2025-01-05T14:01:16.882472Z",
     "iopub.status.idle": "2025-01-05T14:01:16.886859Z",
     "shell.execute_reply": "2025-01-05T14:01:16.885831Z"
    },
    "papermill": {
     "duration": 0.015393,
     "end_time": "2025-01-05T14:01:16.888531",
     "exception": false,
     "start_time": "2025-01-05T14:01:16.873138",
     "status": "completed"
    },
    "tags": []
   },
   "outputs": [],
   "source": [
    "from sklearn.feature_extraction.text import CountVectorizer\n",
    "cv=CountVectorizer()"
   ]
  },
  {
   "cell_type": "code",
   "execution_count": 29,
   "id": "0b0ca809",
   "metadata": {
    "execution": {
     "iopub.execute_input": "2025-01-05T14:01:16.906464Z",
     "iopub.status.busy": "2025-01-05T14:01:16.906170Z",
     "iopub.status.idle": "2025-01-05T14:01:27.177453Z",
     "shell.execute_reply": "2025-01-05T14:01:27.176279Z"
    },
    "papermill": {
     "duration": 10.282805,
     "end_time": "2025-01-05T14:01:27.179894",
     "exception": false,
     "start_time": "2025-01-05T14:01:16.897089",
     "status": "completed"
    },
    "tags": []
   },
   "outputs": [],
   "source": [
    "x_train_bow = cv.fit_transform(x_train['review']).toarray()\n",
    "x_test_bow = cv.transform(x_test['review']).toarray()"
   ]
  },
  {
   "cell_type": "code",
   "execution_count": 30,
   "id": "33e3f2b5",
   "metadata": {
    "execution": {
     "iopub.execute_input": "2025-01-05T14:01:27.198826Z",
     "iopub.status.busy": "2025-01-05T14:01:27.198526Z",
     "iopub.status.idle": "2025-01-05T14:01:27.203975Z",
     "shell.execute_reply": "2025-01-05T14:01:27.203039Z"
    },
    "papermill": {
     "duration": 0.016098,
     "end_time": "2025-01-05T14:01:27.205440",
     "exception": false,
     "start_time": "2025-01-05T14:01:27.189342",
     "status": "completed"
    },
    "tags": []
   },
   "outputs": [
    {
     "data": {
      "text/plain": [
       "array([[0, 0, 0, ..., 0, 0, 0],\n",
       "       [0, 0, 0, ..., 0, 0, 0],\n",
       "       [0, 0, 0, ..., 0, 0, 0],\n",
       "       ...,\n",
       "       [0, 0, 0, ..., 0, 0, 0],\n",
       "       [0, 0, 0, ..., 0, 0, 0],\n",
       "       [0, 1, 0, ..., 0, 0, 0]])"
      ]
     },
     "execution_count": 30,
     "metadata": {},
     "output_type": "execute_result"
    }
   ],
   "source": [
    "x_train_bow"
   ]
  },
  {
   "cell_type": "code",
   "execution_count": 31,
   "id": "dc294407",
   "metadata": {
    "execution": {
     "iopub.execute_input": "2025-01-05T14:01:27.223726Z",
     "iopub.status.busy": "2025-01-05T14:01:27.223437Z",
     "iopub.status.idle": "2025-01-05T14:02:02.393127Z",
     "shell.execute_reply": "2025-01-05T14:02:02.391946Z"
    },
    "papermill": {
     "duration": 35.189097,
     "end_time": "2025-01-05T14:02:02.403312",
     "exception": false,
     "start_time": "2025-01-05T14:01:27.214215",
     "status": "completed"
    },
    "tags": []
   },
   "outputs": [
    {
     "data": {
      "text/html": [
       "<style>#sk-container-id-1 {color: black;background-color: white;}#sk-container-id-1 pre{padding: 0;}#sk-container-id-1 div.sk-toggleable {background-color: white;}#sk-container-id-1 label.sk-toggleable__label {cursor: pointer;display: block;width: 100%;margin-bottom: 0;padding: 0.3em;box-sizing: border-box;text-align: center;}#sk-container-id-1 label.sk-toggleable__label-arrow:before {content: \"▸\";float: left;margin-right: 0.25em;color: #696969;}#sk-container-id-1 label.sk-toggleable__label-arrow:hover:before {color: black;}#sk-container-id-1 div.sk-estimator:hover label.sk-toggleable__label-arrow:before {color: black;}#sk-container-id-1 div.sk-toggleable__content {max-height: 0;max-width: 0;overflow: hidden;text-align: left;background-color: #f0f8ff;}#sk-container-id-1 div.sk-toggleable__content pre {margin: 0.2em;color: black;border-radius: 0.25em;background-color: #f0f8ff;}#sk-container-id-1 input.sk-toggleable__control:checked~div.sk-toggleable__content {max-height: 200px;max-width: 100%;overflow: auto;}#sk-container-id-1 input.sk-toggleable__control:checked~label.sk-toggleable__label-arrow:before {content: \"▾\";}#sk-container-id-1 div.sk-estimator input.sk-toggleable__control:checked~label.sk-toggleable__label {background-color: #d4ebff;}#sk-container-id-1 div.sk-label input.sk-toggleable__control:checked~label.sk-toggleable__label {background-color: #d4ebff;}#sk-container-id-1 input.sk-hidden--visually {border: 0;clip: rect(1px 1px 1px 1px);clip: rect(1px, 1px, 1px, 1px);height: 1px;margin: -1px;overflow: hidden;padding: 0;position: absolute;width: 1px;}#sk-container-id-1 div.sk-estimator {font-family: monospace;background-color: #f0f8ff;border: 1px dotted black;border-radius: 0.25em;box-sizing: border-box;margin-bottom: 0.5em;}#sk-container-id-1 div.sk-estimator:hover {background-color: #d4ebff;}#sk-container-id-1 div.sk-parallel-item::after {content: \"\";width: 100%;border-bottom: 1px solid gray;flex-grow: 1;}#sk-container-id-1 div.sk-label:hover label.sk-toggleable__label {background-color: #d4ebff;}#sk-container-id-1 div.sk-serial::before {content: \"\";position: absolute;border-left: 1px solid gray;box-sizing: border-box;top: 0;bottom: 0;left: 50%;z-index: 0;}#sk-container-id-1 div.sk-serial {display: flex;flex-direction: column;align-items: center;background-color: white;padding-right: 0.2em;padding-left: 0.2em;position: relative;}#sk-container-id-1 div.sk-item {position: relative;z-index: 1;}#sk-container-id-1 div.sk-parallel {display: flex;align-items: stretch;justify-content: center;background-color: white;position: relative;}#sk-container-id-1 div.sk-item::before, #sk-container-id-1 div.sk-parallel-item::before {content: \"\";position: absolute;border-left: 1px solid gray;box-sizing: border-box;top: 0;bottom: 0;left: 50%;z-index: -1;}#sk-container-id-1 div.sk-parallel-item {display: flex;flex-direction: column;z-index: 1;position: relative;background-color: white;}#sk-container-id-1 div.sk-parallel-item:first-child::after {align-self: flex-end;width: 50%;}#sk-container-id-1 div.sk-parallel-item:last-child::after {align-self: flex-start;width: 50%;}#sk-container-id-1 div.sk-parallel-item:only-child::after {width: 0;}#sk-container-id-1 div.sk-dashed-wrapped {border: 1px dashed gray;margin: 0 0.4em 0.5em 0.4em;box-sizing: border-box;padding-bottom: 0.4em;background-color: white;}#sk-container-id-1 div.sk-label label {font-family: monospace;font-weight: bold;display: inline-block;line-height: 1.2em;}#sk-container-id-1 div.sk-label-container {text-align: center;}#sk-container-id-1 div.sk-container {/* jupyter's `normalize.less` sets `[hidden] { display: none; }` but bootstrap.min.css set `[hidden] { display: none !important; }` so we also need the `!important` here to be able to override the default hidden behavior on the sphinx rendered scikit-learn.org. See: https://github.com/scikit-learn/scikit-learn/issues/21755 */display: inline-block !important;position: relative;}#sk-container-id-1 div.sk-text-repr-fallback {display: none;}</style><div id=\"sk-container-id-1\" class=\"sk-top-container\"><div class=\"sk-text-repr-fallback\"><pre>GaussianNB()</pre><b>In a Jupyter environment, please rerun this cell to show the HTML representation or trust the notebook. <br />On GitHub, the HTML representation is unable to render, please try loading this page with nbviewer.org.</b></div><div class=\"sk-container\" hidden><div class=\"sk-item\"><div class=\"sk-estimator sk-toggleable\"><input class=\"sk-toggleable__control sk-hidden--visually\" id=\"sk-estimator-id-1\" type=\"checkbox\" checked><label for=\"sk-estimator-id-1\" class=\"sk-toggleable__label sk-toggleable__label-arrow\">GaussianNB</label><div class=\"sk-toggleable__content\"><pre>GaussianNB()</pre></div></div></div></div></div>"
      ],
      "text/plain": [
       "GaussianNB()"
      ]
     },
     "execution_count": 31,
     "metadata": {},
     "output_type": "execute_result"
    }
   ],
   "source": [
    "from sklearn.naive_bayes import GaussianNB\n",
    "\n",
    "gnb = GaussianNB()\n",
    "gnb.fit(x_train_bow, y_train)"
   ]
  },
  {
   "cell_type": "code",
   "execution_count": 32,
   "id": "fb28e52c",
   "metadata": {
    "execution": {
     "iopub.execute_input": "2025-01-05T14:02:02.422524Z",
     "iopub.status.busy": "2025-01-05T14:02:02.422109Z",
     "iopub.status.idle": "2025-01-05T14:02:10.073129Z",
     "shell.execute_reply": "2025-01-05T14:02:10.072009Z"
    },
    "papermill": {
     "duration": 7.662913,
     "end_time": "2025-01-05T14:02:10.075036",
     "exception": false,
     "start_time": "2025-01-05T14:02:02.412123",
     "status": "completed"
    },
    "tags": []
   },
   "outputs": [],
   "source": [
    "y_pred = gnb.predict(x_test_bow)"
   ]
  },
  {
   "cell_type": "code",
   "execution_count": 33,
   "id": "9af3a2f4",
   "metadata": {
    "execution": {
     "iopub.execute_input": "2025-01-05T14:02:10.094676Z",
     "iopub.status.busy": "2025-01-05T14:02:10.094296Z",
     "iopub.status.idle": "2025-01-05T14:02:10.101455Z",
     "shell.execute_reply": "2025-01-05T14:02:10.100448Z"
    },
    "papermill": {
     "duration": 0.01849,
     "end_time": "2025-01-05T14:02:10.102911",
     "exception": false,
     "start_time": "2025-01-05T14:02:10.084421",
     "status": "completed"
    },
    "tags": []
   },
   "outputs": [
    {
     "data": {
      "text/plain": [
       "0.6444481661363256"
      ]
     },
     "execution_count": 33,
     "metadata": {},
     "output_type": "execute_result"
    }
   ],
   "source": [
    "from sklearn.metrics import accuracy_score, confusion_matrix\n",
    "accuracy_score(y_test, y_pred)"
   ]
  },
  {
   "cell_type": "code",
   "execution_count": 34,
   "id": "0752d8b6",
   "metadata": {
    "execution": {
     "iopub.execute_input": "2025-01-05T14:02:10.122145Z",
     "iopub.status.busy": "2025-01-05T14:02:10.121769Z",
     "iopub.status.idle": "2025-01-05T14:02:10.129558Z",
     "shell.execute_reply": "2025-01-05T14:02:10.128800Z"
    },
    "papermill": {
     "duration": 0.019101,
     "end_time": "2025-01-05T14:02:10.131122",
     "exception": false,
     "start_time": "2025-01-05T14:02:10.112021",
     "status": "completed"
    },
    "tags": []
   },
   "outputs": [
    {
     "data": {
      "text/plain": [
       "array([[2373,  621],\n",
       "       [1502, 1475]])"
      ]
     },
     "execution_count": 34,
     "metadata": {},
     "output_type": "execute_result"
    }
   ],
   "source": [
    "confusion_matrix(y_test, y_pred)"
   ]
  },
  {
   "cell_type": "code",
   "execution_count": 35,
   "id": "a91b8755",
   "metadata": {
    "execution": {
     "iopub.execute_input": "2025-01-05T14:02:10.150882Z",
     "iopub.status.busy": "2025-01-05T14:02:10.150571Z",
     "iopub.status.idle": "2025-01-05T14:08:11.349224Z",
     "shell.execute_reply": "2025-01-05T14:08:11.348027Z"
    },
    "papermill": {
     "duration": 361.22022,
     "end_time": "2025-01-05T14:08:11.360638",
     "exception": false,
     "start_time": "2025-01-05T14:02:10.140418",
     "status": "completed"
    },
    "tags": []
   },
   "outputs": [
    {
     "data": {
      "text/plain": [
       "0.8541282867191425"
      ]
     },
     "execution_count": 35,
     "metadata": {},
     "output_type": "execute_result"
    }
   ],
   "source": [
    "from sklearn.ensemble import RandomForestClassifier\n",
    "rf = RandomForestClassifier()\n",
    "\n",
    "rf.fit(x_train_bow, y_train)\n",
    "y_pred = rf.predict(x_test_bow)\n",
    "\n",
    "accuracy_score(y_test, y_pred)"
   ]
  }
 ],
 "metadata": {
  "kaggle": {
   "accelerator": "none",
   "dataSources": [
    {
     "datasetId": 134715,
     "sourceId": 320111,
     "sourceType": "datasetVersion"
    }
   ],
   "dockerImageVersionId": 30822,
   "isGpuEnabled": false,
   "isInternetEnabled": true,
   "language": "python",
   "sourceType": "notebook"
  },
  "kernelspec": {
   "display_name": "Python 3",
   "language": "python",
   "name": "python3"
  },
  "language_info": {
   "codemirror_mode": {
    "name": "ipython",
    "version": 3
   },
   "file_extension": ".py",
   "mimetype": "text/x-python",
   "name": "python",
   "nbconvert_exporter": "python",
   "pygments_lexer": "ipython3",
   "version": "3.10.12"
  },
  "papermill": {
   "default_parameters": {},
   "duration": 437.814444,
   "end_time": "2025-01-05T14:08:13.395725",
   "environment_variables": {},
   "exception": null,
   "input_path": "__notebook__.ipynb",
   "output_path": "__notebook__.ipynb",
   "parameters": {},
   "start_time": "2025-01-05T14:00:55.581281",
   "version": "2.6.0"
  }
 },
 "nbformat": 4,
 "nbformat_minor": 5
}
