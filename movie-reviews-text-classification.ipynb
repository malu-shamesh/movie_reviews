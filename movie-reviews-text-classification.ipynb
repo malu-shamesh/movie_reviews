{
 "cells": [
  {
   "cell_type": "code",
   "execution_count": 1,
   "id": "37b53585",
   "metadata": {
    "_cell_guid": "b1076dfc-b9ad-4769-8c92-a6c4dae69d19",
    "_uuid": "8f2839f25d086af736a60e9eeb907d3b93b6e0e5",
    "execution": {
     "iopub.execute_input": "2025-01-04T13:49:47.717542Z",
     "iopub.status.busy": "2025-01-04T13:49:47.717198Z",
     "iopub.status.idle": "2025-01-04T13:49:47.728099Z",
     "shell.execute_reply": "2025-01-04T13:49:47.726994Z"
    },
    "papermill": {
     "duration": 0.02045,
     "end_time": "2025-01-04T13:49:47.729823",
     "exception": false,
     "start_time": "2025-01-04T13:49:47.709373",
     "status": "completed"
    },
    "tags": []
   },
   "outputs": [
    {
     "name": "stdout",
     "output_type": "stream",
     "text": [
      "/kaggle/input/imdb-dataset-of-50k-movie-reviews/IMDB Dataset.csv\n"
     ]
    }
   ],
   "source": [
    "# This Python 3 environment comes with many helpful analytics libraries installed\n",
    "# It is defined by the kaggle/python Docker image: https://github.com/kaggle/docker-python\n",
    "# For example, here's several helpful packages to load\n",
    "\n",
    "# Input data files are available in the read-only \"../input/\" directory\n",
    "# For example, running this (by clicking run or pressing Shift+Enter) will list all files under the input directory\n",
    "\n",
    "import os\n",
    "for dirname, _, filenames in os.walk('/kaggle/input'):\n",
    "    for filename in filenames:\n",
    "        print(os.path.join(dirname, filename))\n",
    "\n",
    "# You can write up to 20GB to the current directory (/kaggle/working/) that gets preserved as output when you create a version using \"Save & Run All\" \n",
    "# You can also write temporary files to /kaggle/temp/, but they won't be saved outside of the current session"
   ]
  },
  {
   "cell_type": "code",
   "execution_count": 2,
   "id": "70f6c764",
   "metadata": {
    "execution": {
     "iopub.execute_input": "2025-01-04T13:49:47.742899Z",
     "iopub.status.busy": "2025-01-04T13:49:47.742542Z",
     "iopub.status.idle": "2025-01-04T13:49:50.357382Z",
     "shell.execute_reply": "2025-01-04T13:49:50.356429Z"
    },
    "papermill": {
     "duration": 2.623252,
     "end_time": "2025-01-04T13:49:50.359300",
     "exception": false,
     "start_time": "2025-01-04T13:49:47.736048",
     "status": "completed"
    },
    "tags": []
   },
   "outputs": [],
   "source": [
    "import numpy as np \n",
    "import pandas as pd \n",
    "import nltk\n",
    "import sklearn"
   ]
  },
  {
   "cell_type": "code",
   "execution_count": 3,
   "id": "0c916be4",
   "metadata": {
    "execution": {
     "iopub.execute_input": "2025-01-04T13:49:50.372535Z",
     "iopub.status.busy": "2025-01-04T13:49:50.372020Z",
     "iopub.status.idle": "2025-01-04T13:49:51.993254Z",
     "shell.execute_reply": "2025-01-04T13:49:51.992210Z"
    },
    "papermill": {
     "duration": 1.629646,
     "end_time": "2025-01-04T13:49:51.994990",
     "exception": false,
     "start_time": "2025-01-04T13:49:50.365344",
     "status": "completed"
    },
    "tags": []
   },
   "outputs": [
    {
     "data": {
      "text/html": [
       "<div>\n",
       "<style scoped>\n",
       "    .dataframe tbody tr th:only-of-type {\n",
       "        vertical-align: middle;\n",
       "    }\n",
       "\n",
       "    .dataframe tbody tr th {\n",
       "        vertical-align: top;\n",
       "    }\n",
       "\n",
       "    .dataframe thead th {\n",
       "        text-align: right;\n",
       "    }\n",
       "</style>\n",
       "<table border=\"1\" class=\"dataframe\">\n",
       "  <thead>\n",
       "    <tr style=\"text-align: right;\">\n",
       "      <th></th>\n",
       "      <th>review</th>\n",
       "      <th>sentiment</th>\n",
       "    </tr>\n",
       "  </thead>\n",
       "  <tbody>\n",
       "    <tr>\n",
       "      <th>0</th>\n",
       "      <td>One of the other reviewers has mentioned that ...</td>\n",
       "      <td>positive</td>\n",
       "    </tr>\n",
       "    <tr>\n",
       "      <th>1</th>\n",
       "      <td>A wonderful little production. &lt;br /&gt;&lt;br /&gt;The...</td>\n",
       "      <td>positive</td>\n",
       "    </tr>\n",
       "    <tr>\n",
       "      <th>2</th>\n",
       "      <td>I thought this was a wonderful way to spend ti...</td>\n",
       "      <td>positive</td>\n",
       "    </tr>\n",
       "    <tr>\n",
       "      <th>3</th>\n",
       "      <td>Basically there's a family where a little boy ...</td>\n",
       "      <td>negative</td>\n",
       "    </tr>\n",
       "    <tr>\n",
       "      <th>4</th>\n",
       "      <td>Petter Mattei's \"Love in the Time of Money\" is...</td>\n",
       "      <td>positive</td>\n",
       "    </tr>\n",
       "  </tbody>\n",
       "</table>\n",
       "</div>"
      ],
      "text/plain": [
       "                                              review sentiment\n",
       "0  One of the other reviewers has mentioned that ...  positive\n",
       "1  A wonderful little production. <br /><br />The...  positive\n",
       "2  I thought this was a wonderful way to spend ti...  positive\n",
       "3  Basically there's a family where a little boy ...  negative\n",
       "4  Petter Mattei's \"Love in the Time of Money\" is...  positive"
      ]
     },
     "execution_count": 3,
     "metadata": {},
     "output_type": "execute_result"
    }
   ],
   "source": [
    "# read the datafile\n",
    "df = pd.read_csv('/kaggle/input/imdb-dataset-of-50k-movie-reviews/IMDB Dataset.csv')\n",
    "df.head()"
   ]
  },
  {
   "cell_type": "code",
   "execution_count": 4,
   "id": "eb4f0888",
   "metadata": {
    "execution": {
     "iopub.execute_input": "2025-01-04T13:49:52.008515Z",
     "iopub.status.busy": "2025-01-04T13:49:52.008120Z",
     "iopub.status.idle": "2025-01-04T13:49:52.013549Z",
     "shell.execute_reply": "2025-01-04T13:49:52.012579Z"
    },
    "papermill": {
     "duration": 0.013756,
     "end_time": "2025-01-04T13:49:52.014993",
     "exception": false,
     "start_time": "2025-01-04T13:49:52.001237",
     "status": "completed"
    },
    "tags": []
   },
   "outputs": [
    {
     "data": {
      "text/plain": [
       "(50000, 2)"
      ]
     },
     "execution_count": 4,
     "metadata": {},
     "output_type": "execute_result"
    }
   ],
   "source": [
    "df.shape"
   ]
  },
  {
   "cell_type": "code",
   "execution_count": 5,
   "id": "a4268c8e",
   "metadata": {
    "execution": {
     "iopub.execute_input": "2025-01-04T13:49:52.028622Z",
     "iopub.status.busy": "2025-01-04T13:49:52.028249Z",
     "iopub.status.idle": "2025-01-04T13:49:52.033954Z",
     "shell.execute_reply": "2025-01-04T13:49:52.033156Z"
    },
    "papermill": {
     "duration": 0.014193,
     "end_time": "2025-01-04T13:49:52.035394",
     "exception": false,
     "start_time": "2025-01-04T13:49:52.021201",
     "status": "completed"
    },
    "tags": []
   },
   "outputs": [
    {
     "data": {
      "text/plain": [
       "\"One of the other reviewers has mentioned that after watching just 1 Oz episode you'll be hooked. They are right, as this is exactly what happened with me.<br /><br />The first thing that struck me about Oz was its brutality and unflinching scenes of violence, which set in right from the word GO. Trust me, this is not a show for the faint hearted or timid. This show pulls no punches with regards to drugs, sex or violence. Its is hardcore, in the classic use of the word.<br /><br />It is called OZ as that is the nickname given to the Oswald Maximum Security State Penitentary. It focuses mainly on Emerald City, an experimental section of the prison where all the cells have glass fronts and face inwards, so privacy is not high on the agenda. Em City is home to many..Aryans, Muslims, gangstas, Latinos, Christians, Italians, Irish and more....so scuffles, death stares, dodgy dealings and shady agreements are never far away.<br /><br />I would say the main appeal of the show is due to the fact that it goes where other shows wouldn't dare. Forget pretty pictures painted for mainstream audiences, forget charm, forget romance...OZ doesn't mess around. The first episode I ever saw struck me as so nasty it was surreal, I couldn't say I was ready for it, but as I watched more, I developed a taste for Oz, and got accustomed to the high levels of graphic violence. Not just violence, but injustice (crooked guards who'll be sold out for a nickel, inmates who'll kill on order and get away with it, well mannered, middle class inmates being turned into prison bitches due to their lack of street skills or prison experience) Watching Oz, you may become comfortable with what is uncomfortable viewing....thats if you can get in touch with your darker side.\""
      ]
     },
     "execution_count": 5,
     "metadata": {},
     "output_type": "execute_result"
    }
   ],
   "source": [
    "df['review'][0]"
   ]
  },
  {
   "cell_type": "code",
   "execution_count": 6,
   "id": "66e1d310",
   "metadata": {
    "execution": {
     "iopub.execute_input": "2025-01-04T13:49:52.049081Z",
     "iopub.status.busy": "2025-01-04T13:49:52.048763Z",
     "iopub.status.idle": "2025-01-04T13:49:52.066837Z",
     "shell.execute_reply": "2025-01-04T13:49:52.065862Z"
    },
    "papermill": {
     "duration": 0.026554,
     "end_time": "2025-01-04T13:49:52.068311",
     "exception": false,
     "start_time": "2025-01-04T13:49:52.041757",
     "status": "completed"
    },
    "tags": []
   },
   "outputs": [
    {
     "data": {
      "text/plain": [
       "sentiment\n",
       "positive    25000\n",
       "negative    25000\n",
       "Name: count, dtype: int64"
      ]
     },
     "execution_count": 6,
     "metadata": {},
     "output_type": "execute_result"
    }
   ],
   "source": [
    "df['sentiment'].value_counts()"
   ]
  },
  {
   "cell_type": "code",
   "execution_count": 7,
   "id": "8c4d07c9",
   "metadata": {
    "execution": {
     "iopub.execute_input": "2025-01-04T13:49:52.081960Z",
     "iopub.status.busy": "2025-01-04T13:49:52.081593Z",
     "iopub.status.idle": "2025-01-04T13:49:52.099165Z",
     "shell.execute_reply": "2025-01-04T13:49:52.098264Z"
    },
    "papermill": {
     "duration": 0.026091,
     "end_time": "2025-01-04T13:49:52.100777",
     "exception": false,
     "start_time": "2025-01-04T13:49:52.074686",
     "status": "completed"
    },
    "tags": []
   },
   "outputs": [
    {
     "data": {
      "text/plain": [
       "review       0\n",
       "sentiment    0\n",
       "dtype: int64"
      ]
     },
     "execution_count": 7,
     "metadata": {},
     "output_type": "execute_result"
    }
   ],
   "source": [
    "df.isnull().sum()"
   ]
  },
  {
   "cell_type": "code",
   "execution_count": 8,
   "id": "e41e39fd",
   "metadata": {
    "execution": {
     "iopub.execute_input": "2025-01-04T13:49:52.114682Z",
     "iopub.status.busy": "2025-01-04T13:49:52.114332Z",
     "iopub.status.idle": "2025-01-04T13:49:52.309194Z",
     "shell.execute_reply": "2025-01-04T13:49:52.308130Z"
    },
    "papermill": {
     "duration": 0.203692,
     "end_time": "2025-01-04T13:49:52.310955",
     "exception": false,
     "start_time": "2025-01-04T13:49:52.107263",
     "status": "completed"
    },
    "tags": []
   },
   "outputs": [
    {
     "data": {
      "text/plain": [
       "418"
      ]
     },
     "execution_count": 8,
     "metadata": {},
     "output_type": "execute_result"
    }
   ],
   "source": [
    "df.duplicated().sum()"
   ]
  },
  {
   "cell_type": "code",
   "execution_count": 9,
   "id": "08233fd6",
   "metadata": {
    "execution": {
     "iopub.execute_input": "2025-01-04T13:49:52.325142Z",
     "iopub.status.busy": "2025-01-04T13:49:52.324768Z",
     "iopub.status.idle": "2025-01-04T13:49:52.503202Z",
     "shell.execute_reply": "2025-01-04T13:49:52.501788Z"
    },
    "papermill": {
     "duration": 0.187749,
     "end_time": "2025-01-04T13:49:52.505164",
     "exception": false,
     "start_time": "2025-01-04T13:49:52.317415",
     "status": "completed"
    },
    "tags": []
   },
   "outputs": [],
   "source": [
    "df.drop_duplicates(inplace=True)"
   ]
  },
  {
   "cell_type": "code",
   "execution_count": 10,
   "id": "f8a27ac8",
   "metadata": {
    "execution": {
     "iopub.execute_input": "2025-01-04T13:49:52.519769Z",
     "iopub.status.busy": "2025-01-04T13:49:52.519311Z",
     "iopub.status.idle": "2025-01-04T13:49:52.529075Z",
     "shell.execute_reply": "2025-01-04T13:49:52.528067Z"
    },
    "papermill": {
     "duration": 0.018885,
     "end_time": "2025-01-04T13:49:52.530643",
     "exception": false,
     "start_time": "2025-01-04T13:49:52.511758",
     "status": "completed"
    },
    "tags": []
   },
   "outputs": [
    {
     "data": {
      "text/plain": [
       "sentiment\n",
       "positive    24884\n",
       "negative    24698\n",
       "Name: count, dtype: int64"
      ]
     },
     "execution_count": 10,
     "metadata": {},
     "output_type": "execute_result"
    }
   ],
   "source": [
    "df['sentiment'].value_counts()"
   ]
  },
  {
   "cell_type": "markdown",
   "id": "03ceb408",
   "metadata": {
    "papermill": {
     "duration": 0.006171,
     "end_time": "2025-01-04T13:49:52.544273",
     "exception": false,
     "start_time": "2025-01-04T13:49:52.538102",
     "status": "completed"
    },
    "tags": []
   },
   "source": [
    "# PREPROCESSING"
   ]
  },
  {
   "cell_type": "code",
   "execution_count": 11,
   "id": "c22a01d3",
   "metadata": {
    "execution": {
     "iopub.execute_input": "2025-01-04T13:49:52.558407Z",
     "iopub.status.busy": "2025-01-04T13:49:52.558047Z",
     "iopub.status.idle": "2025-01-04T13:49:52.562350Z",
     "shell.execute_reply": "2025-01-04T13:49:52.561363Z"
    },
    "papermill": {
     "duration": 0.01321,
     "end_time": "2025-01-04T13:49:52.563888",
     "exception": false,
     "start_time": "2025-01-04T13:49:52.550678",
     "status": "completed"
    },
    "tags": []
   },
   "outputs": [],
   "source": [
    "import re\n",
    "def remove_tags(raw_text):\n",
    "    cleaned_text = re.sub(re.compile('<.*?>'), '', raw_text)\n",
    "    return cleaned_text"
   ]
  },
  {
   "cell_type": "code",
   "execution_count": 12,
   "id": "01013a68",
   "metadata": {
    "execution": {
     "iopub.execute_input": "2025-01-04T13:49:52.578200Z",
     "iopub.status.busy": "2025-01-04T13:49:52.577838Z",
     "iopub.status.idle": "2025-01-04T13:49:52.821403Z",
     "shell.execute_reply": "2025-01-04T13:49:52.820112Z"
    },
    "papermill": {
     "duration": 0.252852,
     "end_time": "2025-01-04T13:49:52.823388",
     "exception": false,
     "start_time": "2025-01-04T13:49:52.570536",
     "status": "completed"
    },
    "tags": []
   },
   "outputs": [],
   "source": [
    "df['review'] = df['review'].apply(remove_tags)"
   ]
  },
  {
   "cell_type": "code",
   "execution_count": 13,
   "id": "7a3cac6a",
   "metadata": {
    "execution": {
     "iopub.execute_input": "2025-01-04T13:49:52.837632Z",
     "iopub.status.busy": "2025-01-04T13:49:52.837307Z",
     "iopub.status.idle": "2025-01-04T13:49:52.845528Z",
     "shell.execute_reply": "2025-01-04T13:49:52.844658Z"
    },
    "papermill": {
     "duration": 0.017074,
     "end_time": "2025-01-04T13:49:52.847125",
     "exception": false,
     "start_time": "2025-01-04T13:49:52.830051",
     "status": "completed"
    },
    "tags": []
   },
   "outputs": [
    {
     "data": {
      "text/html": [
       "<div>\n",
       "<style scoped>\n",
       "    .dataframe tbody tr th:only-of-type {\n",
       "        vertical-align: middle;\n",
       "    }\n",
       "\n",
       "    .dataframe tbody tr th {\n",
       "        vertical-align: top;\n",
       "    }\n",
       "\n",
       "    .dataframe thead th {\n",
       "        text-align: right;\n",
       "    }\n",
       "</style>\n",
       "<table border=\"1\" class=\"dataframe\">\n",
       "  <thead>\n",
       "    <tr style=\"text-align: right;\">\n",
       "      <th></th>\n",
       "      <th>review</th>\n",
       "      <th>sentiment</th>\n",
       "    </tr>\n",
       "  </thead>\n",
       "  <tbody>\n",
       "    <tr>\n",
       "      <th>0</th>\n",
       "      <td>One of the other reviewers has mentioned that ...</td>\n",
       "      <td>positive</td>\n",
       "    </tr>\n",
       "    <tr>\n",
       "      <th>1</th>\n",
       "      <td>A wonderful little production. The filming tec...</td>\n",
       "      <td>positive</td>\n",
       "    </tr>\n",
       "    <tr>\n",
       "      <th>2</th>\n",
       "      <td>I thought this was a wonderful way to spend ti...</td>\n",
       "      <td>positive</td>\n",
       "    </tr>\n",
       "    <tr>\n",
       "      <th>3</th>\n",
       "      <td>Basically there's a family where a little boy ...</td>\n",
       "      <td>negative</td>\n",
       "    </tr>\n",
       "    <tr>\n",
       "      <th>4</th>\n",
       "      <td>Petter Mattei's \"Love in the Time of Money\" is...</td>\n",
       "      <td>positive</td>\n",
       "    </tr>\n",
       "  </tbody>\n",
       "</table>\n",
       "</div>"
      ],
      "text/plain": [
       "                                              review sentiment\n",
       "0  One of the other reviewers has mentioned that ...  positive\n",
       "1  A wonderful little production. The filming tec...  positive\n",
       "2  I thought this was a wonderful way to spend ti...  positive\n",
       "3  Basically there's a family where a little boy ...  negative\n",
       "4  Petter Mattei's \"Love in the Time of Money\" is...  positive"
      ]
     },
     "execution_count": 13,
     "metadata": {},
     "output_type": "execute_result"
    }
   ],
   "source": [
    "df.head()"
   ]
  },
  {
   "cell_type": "code",
   "execution_count": 14,
   "id": "6d3cf295",
   "metadata": {
    "execution": {
     "iopub.execute_input": "2025-01-04T13:49:52.861637Z",
     "iopub.status.busy": "2025-01-04T13:49:52.861321Z",
     "iopub.status.idle": "2025-01-04T13:49:52.869670Z",
     "shell.execute_reply": "2025-01-04T13:49:52.868700Z"
    },
    "papermill": {
     "duration": 0.01741,
     "end_time": "2025-01-04T13:49:52.871357",
     "exception": false,
     "start_time": "2025-01-04T13:49:52.853947",
     "status": "completed"
    },
    "tags": []
   },
   "outputs": [
    {
     "data": {
      "text/plain": [
       "\"One of the other reviewers has mentioned that after watching just 1 Oz episode you'll be hooked. They are right, as this is exactly what happened with me.The first thing that struck me about Oz was its brutality and unflinching scenes of violence, which set in right from the word GO. Trust me, this is not a show for the faint hearted or timid. This show pulls no punches with regards to drugs, sex or violence. Its is hardcore, in the classic use of the word.It is called OZ as that is the nickname given to the Oswald Maximum Security State Penitentary. It focuses mainly on Emerald City, an experimental section of the prison where all the cells have glass fronts and face inwards, so privacy is not high on the agenda. Em City is home to many..Aryans, Muslims, gangstas, Latinos, Christians, Italians, Irish and more....so scuffles, death stares, dodgy dealings and shady agreements are never far away.I would say the main appeal of the show is due to the fact that it goes where other shows wouldn't dare. Forget pretty pictures painted for mainstream audiences, forget charm, forget romance...OZ doesn't mess around. The first episode I ever saw struck me as so nasty it was surreal, I couldn't say I was ready for it, but as I watched more, I developed a taste for Oz, and got accustomed to the high levels of graphic violence. Not just violence, but injustice (crooked guards who'll be sold out for a nickel, inmates who'll kill on order and get away with it, well mannered, middle class inmates being turned into prison bitches due to their lack of street skills or prison experience) Watching Oz, you may become comfortable with what is uncomfortable viewing....thats if you can get in touch with your darker side.\""
      ]
     },
     "execution_count": 14,
     "metadata": {},
     "output_type": "execute_result"
    }
   ],
   "source": [
    "df['review'][0]"
   ]
  },
  {
   "cell_type": "code",
   "execution_count": 15,
   "id": "5a698690",
   "metadata": {
    "execution": {
     "iopub.execute_input": "2025-01-04T13:49:52.886011Z",
     "iopub.status.busy": "2025-01-04T13:49:52.885635Z",
     "iopub.status.idle": "2025-01-04T13:49:53.047795Z",
     "shell.execute_reply": "2025-01-04T13:49:53.046779Z"
    },
    "papermill": {
     "duration": 0.171516,
     "end_time": "2025-01-04T13:49:53.049656",
     "exception": false,
     "start_time": "2025-01-04T13:49:52.878140",
     "status": "completed"
    },
    "tags": []
   },
   "outputs": [],
   "source": [
    "df['review'] = df['review'].apply(lambda x:x.lower())"
   ]
  },
  {
   "cell_type": "code",
   "execution_count": 16,
   "id": "f408ab88",
   "metadata": {
    "execution": {
     "iopub.execute_input": "2025-01-04T13:49:53.064367Z",
     "iopub.status.busy": "2025-01-04T13:49:53.064017Z",
     "iopub.status.idle": "2025-01-04T13:49:53.069549Z",
     "shell.execute_reply": "2025-01-04T13:49:53.068614Z"
    },
    "papermill": {
     "duration": 0.014424,
     "end_time": "2025-01-04T13:49:53.071014",
     "exception": false,
     "start_time": "2025-01-04T13:49:53.056590",
     "status": "completed"
    },
    "tags": []
   },
   "outputs": [
    {
     "data": {
      "text/plain": [
       "\"one of the other reviewers has mentioned that after watching just 1 oz episode you'll be hooked. they are right, as this is exactly what happened with me.the first thing that struck me about oz was its brutality and unflinching scenes of violence, which set in right from the word go. trust me, this is not a show for the faint hearted or timid. this show pulls no punches with regards to drugs, sex or violence. its is hardcore, in the classic use of the word.it is called oz as that is the nickname given to the oswald maximum security state penitentary. it focuses mainly on emerald city, an experimental section of the prison where all the cells have glass fronts and face inwards, so privacy is not high on the agenda. em city is home to many..aryans, muslims, gangstas, latinos, christians, italians, irish and more....so scuffles, death stares, dodgy dealings and shady agreements are never far away.i would say the main appeal of the show is due to the fact that it goes where other shows wouldn't dare. forget pretty pictures painted for mainstream audiences, forget charm, forget romance...oz doesn't mess around. the first episode i ever saw struck me as so nasty it was surreal, i couldn't say i was ready for it, but as i watched more, i developed a taste for oz, and got accustomed to the high levels of graphic violence. not just violence, but injustice (crooked guards who'll be sold out for a nickel, inmates who'll kill on order and get away with it, well mannered, middle class inmates being turned into prison bitches due to their lack of street skills or prison experience) watching oz, you may become comfortable with what is uncomfortable viewing....thats if you can get in touch with your darker side.\""
      ]
     },
     "execution_count": 16,
     "metadata": {},
     "output_type": "execute_result"
    }
   ],
   "source": [
    "df['review'][0]"
   ]
  },
  {
   "cell_type": "code",
   "execution_count": 17,
   "id": "e28273fd",
   "metadata": {
    "execution": {
     "iopub.execute_input": "2025-01-04T13:49:53.086420Z",
     "iopub.status.busy": "2025-01-04T13:49:53.086052Z",
     "iopub.status.idle": "2025-01-04T13:50:15.442458Z",
     "shell.execute_reply": "2025-01-04T13:50:15.441448Z"
    },
    "papermill": {
     "duration": 22.366393,
     "end_time": "2025-01-04T13:50:15.444390",
     "exception": false,
     "start_time": "2025-01-04T13:49:53.077997",
     "status": "completed"
    },
    "tags": []
   },
   "outputs": [
    {
     "name": "stdout",
     "output_type": "stream",
     "text": [
      "[nltk_data] Downloading package stopwords to /usr/share/nltk_data...\n",
      "[nltk_data]   Package stopwords is already up-to-date!\n"
     ]
    }
   ],
   "source": [
    "from nltk.corpus import stopwords\n",
    "\n",
    "nltk.download('stopwords')\n",
    "sw_list = stopwords.words('english')\n",
    "\n",
    "df['review'] = df['review'].apply(lambda x: [item for item in x.split() if item not in sw_list]).apply(lambda x: \" \".join(x))"
   ]
  },
  {
   "cell_type": "code",
   "execution_count": 18,
   "id": "ee147224",
   "metadata": {
    "execution": {
     "iopub.execute_input": "2025-01-04T13:50:15.461182Z",
     "iopub.status.busy": "2025-01-04T13:50:15.460718Z",
     "iopub.status.idle": "2025-01-04T13:50:15.467210Z",
     "shell.execute_reply": "2025-01-04T13:50:15.466281Z"
    },
    "papermill": {
     "duration": 0.016859,
     "end_time": "2025-01-04T13:50:15.468749",
     "exception": false,
     "start_time": "2025-01-04T13:50:15.451890",
     "status": "completed"
    },
    "tags": []
   },
   "outputs": [
    {
     "data": {
      "text/plain": [
       "\"one reviewers mentioned watching 1 oz episode hooked. right, exactly happened me.the first thing struck oz brutality unflinching scenes violence, set right word go. trust me, show faint hearted timid. show pulls punches regards drugs, sex violence. hardcore, classic use word.it called oz nickname given oswald maximum security state penitentary. focuses mainly emerald city, experimental section prison cells glass fronts face inwards, privacy high agenda. em city home many..aryans, muslims, gangstas, latinos, christians, italians, irish more....so scuffles, death stares, dodgy dealings shady agreements never far away.i would say main appeal show due fact goes shows dare. forget pretty pictures painted mainstream audiences, forget charm, forget romance...oz mess around. first episode ever saw struck nasty surreal, say ready it, watched more, developed taste oz, got accustomed high levels graphic violence. violence, injustice (crooked guards who'll sold nickel, inmates who'll kill order get away it, well mannered, middle class inmates turned prison bitches due lack street skills prison experience) watching oz, may become comfortable uncomfortable viewing....thats get touch darker side.\""
      ]
     },
     "execution_count": 18,
     "metadata": {},
     "output_type": "execute_result"
    }
   ],
   "source": [
    "df['review'][0]"
   ]
  },
  {
   "cell_type": "code",
   "execution_count": 19,
   "id": "8b9b0df6",
   "metadata": {
    "execution": {
     "iopub.execute_input": "2025-01-04T13:50:15.484245Z",
     "iopub.status.busy": "2025-01-04T13:50:15.483829Z",
     "iopub.status.idle": "2025-01-04T13:50:15.494097Z",
     "shell.execute_reply": "2025-01-04T13:50:15.493127Z"
    },
    "papermill": {
     "duration": 0.019818,
     "end_time": "2025-01-04T13:50:15.495624",
     "exception": false,
     "start_time": "2025-01-04T13:50:15.475806",
     "status": "completed"
    },
    "tags": []
   },
   "outputs": [
    {
     "data": {
      "text/html": [
       "<div>\n",
       "<style scoped>\n",
       "    .dataframe tbody tr th:only-of-type {\n",
       "        vertical-align: middle;\n",
       "    }\n",
       "\n",
       "    .dataframe tbody tr th {\n",
       "        vertical-align: top;\n",
       "    }\n",
       "\n",
       "    .dataframe thead th {\n",
       "        text-align: right;\n",
       "    }\n",
       "</style>\n",
       "<table border=\"1\" class=\"dataframe\">\n",
       "  <thead>\n",
       "    <tr style=\"text-align: right;\">\n",
       "      <th></th>\n",
       "      <th>review</th>\n",
       "      <th>sentiment</th>\n",
       "    </tr>\n",
       "  </thead>\n",
       "  <tbody>\n",
       "    <tr>\n",
       "      <th>0</th>\n",
       "      <td>one reviewers mentioned watching 1 oz episode ...</td>\n",
       "      <td>positive</td>\n",
       "    </tr>\n",
       "    <tr>\n",
       "      <th>1</th>\n",
       "      <td>wonderful little production. filming technique...</td>\n",
       "      <td>positive</td>\n",
       "    </tr>\n",
       "    <tr>\n",
       "      <th>2</th>\n",
       "      <td>thought wonderful way spend time hot summer we...</td>\n",
       "      <td>positive</td>\n",
       "    </tr>\n",
       "    <tr>\n",
       "      <th>3</th>\n",
       "      <td>basically there's family little boy (jake) thi...</td>\n",
       "      <td>negative</td>\n",
       "    </tr>\n",
       "    <tr>\n",
       "      <th>4</th>\n",
       "      <td>petter mattei's \"love time money\" visually stu...</td>\n",
       "      <td>positive</td>\n",
       "    </tr>\n",
       "  </tbody>\n",
       "</table>\n",
       "</div>"
      ],
      "text/plain": [
       "                                              review sentiment\n",
       "0  one reviewers mentioned watching 1 oz episode ...  positive\n",
       "1  wonderful little production. filming technique...  positive\n",
       "2  thought wonderful way spend time hot summer we...  positive\n",
       "3  basically there's family little boy (jake) thi...  negative\n",
       "4  petter mattei's \"love time money\" visually stu...  positive"
      ]
     },
     "execution_count": 19,
     "metadata": {},
     "output_type": "execute_result"
    }
   ],
   "source": [
    "df.head()"
   ]
  },
  {
   "cell_type": "code",
   "execution_count": 20,
   "id": "f99dee33",
   "metadata": {
    "execution": {
     "iopub.execute_input": "2025-01-04T13:50:15.511464Z",
     "iopub.status.busy": "2025-01-04T13:50:15.511047Z",
     "iopub.status.idle": "2025-01-04T13:50:15.519946Z",
     "shell.execute_reply": "2025-01-04T13:50:15.518933Z"
    },
    "papermill": {
     "duration": 0.018817,
     "end_time": "2025-01-04T13:50:15.521646",
     "exception": false,
     "start_time": "2025-01-04T13:50:15.502829",
     "status": "completed"
    },
    "tags": []
   },
   "outputs": [],
   "source": [
    "x = df.iloc[:,0:1]\n",
    "y = df['sentiment']"
   ]
  },
  {
   "cell_type": "code",
   "execution_count": 21,
   "id": "9ae08161",
   "metadata": {
    "execution": {
     "iopub.execute_input": "2025-01-04T13:50:15.537625Z",
     "iopub.status.busy": "2025-01-04T13:50:15.537195Z",
     "iopub.status.idle": "2025-01-04T13:50:15.546903Z",
     "shell.execute_reply": "2025-01-04T13:50:15.545830Z"
    },
    "papermill": {
     "duration": 0.019448,
     "end_time": "2025-01-04T13:50:15.548526",
     "exception": false,
     "start_time": "2025-01-04T13:50:15.529078",
     "status": "completed"
    },
    "tags": []
   },
   "outputs": [
    {
     "data": {
      "text/html": [
       "<div>\n",
       "<style scoped>\n",
       "    .dataframe tbody tr th:only-of-type {\n",
       "        vertical-align: middle;\n",
       "    }\n",
       "\n",
       "    .dataframe tbody tr th {\n",
       "        vertical-align: top;\n",
       "    }\n",
       "\n",
       "    .dataframe thead th {\n",
       "        text-align: right;\n",
       "    }\n",
       "</style>\n",
       "<table border=\"1\" class=\"dataframe\">\n",
       "  <thead>\n",
       "    <tr style=\"text-align: right;\">\n",
       "      <th></th>\n",
       "      <th>review</th>\n",
       "    </tr>\n",
       "  </thead>\n",
       "  <tbody>\n",
       "    <tr>\n",
       "      <th>0</th>\n",
       "      <td>one reviewers mentioned watching 1 oz episode ...</td>\n",
       "    </tr>\n",
       "    <tr>\n",
       "      <th>1</th>\n",
       "      <td>wonderful little production. filming technique...</td>\n",
       "    </tr>\n",
       "    <tr>\n",
       "      <th>2</th>\n",
       "      <td>thought wonderful way spend time hot summer we...</td>\n",
       "    </tr>\n",
       "    <tr>\n",
       "      <th>3</th>\n",
       "      <td>basically there's family little boy (jake) thi...</td>\n",
       "    </tr>\n",
       "    <tr>\n",
       "      <th>4</th>\n",
       "      <td>petter mattei's \"love time money\" visually stu...</td>\n",
       "    </tr>\n",
       "  </tbody>\n",
       "</table>\n",
       "</div>"
      ],
      "text/plain": [
       "                                              review\n",
       "0  one reviewers mentioned watching 1 oz episode ...\n",
       "1  wonderful little production. filming technique...\n",
       "2  thought wonderful way spend time hot summer we...\n",
       "3  basically there's family little boy (jake) thi...\n",
       "4  petter mattei's \"love time money\" visually stu..."
      ]
     },
     "execution_count": 21,
     "metadata": {},
     "output_type": "execute_result"
    }
   ],
   "source": [
    "x.head()"
   ]
  },
  {
   "cell_type": "code",
   "execution_count": 22,
   "id": "c65187c4",
   "metadata": {
    "execution": {
     "iopub.execute_input": "2025-01-04T13:50:15.565141Z",
     "iopub.status.busy": "2025-01-04T13:50:15.564681Z",
     "iopub.status.idle": "2025-01-04T13:50:15.572832Z",
     "shell.execute_reply": "2025-01-04T13:50:15.571803Z"
    },
    "papermill": {
     "duration": 0.018551,
     "end_time": "2025-01-04T13:50:15.574643",
     "exception": false,
     "start_time": "2025-01-04T13:50:15.556092",
     "status": "completed"
    },
    "tags": []
   },
   "outputs": [
    {
     "data": {
      "text/plain": [
       "0        positive\n",
       "1        positive\n",
       "2        positive\n",
       "3        negative\n",
       "4        positive\n",
       "           ...   \n",
       "49995    positive\n",
       "49996    negative\n",
       "49997    negative\n",
       "49998    negative\n",
       "49999    negative\n",
       "Name: sentiment, Length: 49582, dtype: object"
      ]
     },
     "execution_count": 22,
     "metadata": {},
     "output_type": "execute_result"
    }
   ],
   "source": [
    "y"
   ]
  },
  {
   "cell_type": "code",
   "execution_count": 23,
   "id": "410d4021",
   "metadata": {
    "execution": {
     "iopub.execute_input": "2025-01-04T13:50:15.591431Z",
     "iopub.status.busy": "2025-01-04T13:50:15.591004Z",
     "iopub.status.idle": "2025-01-04T13:50:15.610327Z",
     "shell.execute_reply": "2025-01-04T13:50:15.609303Z"
    },
    "papermill": {
     "duration": 0.029737,
     "end_time": "2025-01-04T13:50:15.612118",
     "exception": false,
     "start_time": "2025-01-04T13:50:15.582381",
     "status": "completed"
    },
    "tags": []
   },
   "outputs": [],
   "source": [
    "from sklearn.preprocessing import LabelEncoder\n",
    "encoder = LabelEncoder()\n",
    "y=encoder.fit_transform(y)"
   ]
  },
  {
   "cell_type": "code",
   "execution_count": 24,
   "id": "244bb919",
   "metadata": {
    "execution": {
     "iopub.execute_input": "2025-01-04T13:50:15.628189Z",
     "iopub.status.busy": "2025-01-04T13:50:15.627863Z",
     "iopub.status.idle": "2025-01-04T13:50:15.640678Z",
     "shell.execute_reply": "2025-01-04T13:50:15.639796Z"
    },
    "papermill": {
     "duration": 0.022736,
     "end_time": "2025-01-04T13:50:15.642323",
     "exception": false,
     "start_time": "2025-01-04T13:50:15.619587",
     "status": "completed"
    },
    "tags": []
   },
   "outputs": [],
   "source": [
    "from sklearn.model_selection import train_test_split\n",
    "x_train,x_test,y_train,y_test = train_test_split(x,y,test_size=0.2,random_state=1)"
   ]
  },
  {
   "cell_type": "code",
   "execution_count": 25,
   "id": "5ec3aab3",
   "metadata": {
    "execution": {
     "iopub.execute_input": "2025-01-04T13:50:15.658368Z",
     "iopub.status.busy": "2025-01-04T13:50:15.658053Z",
     "iopub.status.idle": "2025-01-04T13:50:15.663364Z",
     "shell.execute_reply": "2025-01-04T13:50:15.662434Z"
    },
    "papermill": {
     "duration": 0.014988,
     "end_time": "2025-01-04T13:50:15.664856",
     "exception": false,
     "start_time": "2025-01-04T13:50:15.649868",
     "status": "completed"
    },
    "tags": []
   },
   "outputs": [
    {
     "data": {
      "text/plain": [
       "(39665, 1)"
      ]
     },
     "execution_count": 25,
     "metadata": {},
     "output_type": "execute_result"
    }
   ],
   "source": [
    "x_train.shape"
   ]
  },
  {
   "cell_type": "code",
   "execution_count": 26,
   "id": "91027a1e",
   "metadata": {
    "execution": {
     "iopub.execute_input": "2025-01-04T13:50:15.681485Z",
     "iopub.status.busy": "2025-01-04T13:50:15.681066Z",
     "iopub.status.idle": "2025-01-04T13:50:15.687061Z",
     "shell.execute_reply": "2025-01-04T13:50:15.685960Z"
    },
    "papermill": {
     "duration": 0.016395,
     "end_time": "2025-01-04T13:50:15.688864",
     "exception": false,
     "start_time": "2025-01-04T13:50:15.672469",
     "status": "completed"
    },
    "tags": []
   },
   "outputs": [
    {
     "data": {
      "text/plain": [
       "(9917, 1)"
      ]
     },
     "execution_count": 26,
     "metadata": {},
     "output_type": "execute_result"
    }
   ],
   "source": [
    "x_test.shape"
   ]
  },
  {
   "cell_type": "markdown",
   "id": "310f75cf",
   "metadata": {
    "papermill": {
     "duration": 0.007125,
     "end_time": "2025-01-04T13:50:15.707797",
     "exception": false,
     "start_time": "2025-01-04T13:50:15.700672",
     "status": "completed"
    },
    "tags": []
   },
   "source": [
    "## BoW"
   ]
  },
  {
   "cell_type": "code",
   "execution_count": 27,
   "id": "d32cdbcf",
   "metadata": {
    "execution": {
     "iopub.execute_input": "2025-01-04T13:50:15.723915Z",
     "iopub.status.busy": "2025-01-04T13:50:15.723468Z",
     "iopub.status.idle": "2025-01-04T13:50:15.729149Z",
     "shell.execute_reply": "2025-01-04T13:50:15.728226Z"
    },
    "papermill": {
     "duration": 0.015584,
     "end_time": "2025-01-04T13:50:15.730780",
     "exception": false,
     "start_time": "2025-01-04T13:50:15.715196",
     "status": "completed"
    },
    "tags": []
   },
   "outputs": [],
   "source": [
    "from sklearn.feature_extraction.text import CountVectorizer\n",
    "cv=CountVectorizer()"
   ]
  },
  {
   "cell_type": "code",
   "execution_count": 28,
   "id": "c0d4b420",
   "metadata": {
    "execution": {
     "iopub.execute_input": "2025-01-04T13:50:15.747713Z",
     "iopub.status.busy": "2025-01-04T13:50:15.747287Z",
     "iopub.status.idle": "2025-01-04T13:50:31.948111Z",
     "shell.execute_reply": "2025-01-04T13:50:31.947135Z"
    },
    "papermill": {
     "duration": 16.211207,
     "end_time": "2025-01-04T13:50:31.949816",
     "exception": false,
     "start_time": "2025-01-04T13:50:15.738609",
     "status": "completed"
    },
    "tags": []
   },
   "outputs": [],
   "source": [
    "x_train_bow = cv.fit_transform(x_train['review']).toarray()\n",
    "x_test_bow = cv.fit_transform(x_test['review']).toarray()"
   ]
  },
  {
   "cell_type": "code",
   "execution_count": 29,
   "id": "48104355",
   "metadata": {
    "execution": {
     "iopub.execute_input": "2025-01-04T13:50:31.966791Z",
     "iopub.status.busy": "2025-01-04T13:50:31.966427Z",
     "iopub.status.idle": "2025-01-04T13:50:31.972107Z",
     "shell.execute_reply": "2025-01-04T13:50:31.971033Z"
    },
    "papermill": {
     "duration": 0.015472,
     "end_time": "2025-01-04T13:50:31.973599",
     "exception": false,
     "start_time": "2025-01-04T13:50:31.958127",
     "status": "completed"
    },
    "tags": []
   },
   "outputs": [
    {
     "data": {
      "text/plain": [
       "array([[0, 0, 0, ..., 0, 0, 0],\n",
       "       [0, 0, 0, ..., 0, 0, 0],\n",
       "       [0, 0, 0, ..., 0, 0, 0],\n",
       "       ...,\n",
       "       [0, 0, 0, ..., 0, 0, 0],\n",
       "       [0, 0, 0, ..., 0, 0, 0],\n",
       "       [0, 0, 0, ..., 0, 0, 0]])"
      ]
     },
     "execution_count": 29,
     "metadata": {},
     "output_type": "execute_result"
    }
   ],
   "source": [
    "x_train_bow"
   ]
  }
 ],
 "metadata": {
  "kaggle": {
   "accelerator": "none",
   "dataSources": [
    {
     "datasetId": 134715,
     "sourceId": 320111,
     "sourceType": "datasetVersion"
    }
   ],
   "dockerImageVersionId": 30822,
   "isGpuEnabled": false,
   "isInternetEnabled": true,
   "language": "python",
   "sourceType": "notebook"
  },
  "kernelspec": {
   "display_name": "Python 3",
   "language": "python",
   "name": "python3"
  },
  "language_info": {
   "codemirror_mode": {
    "name": "ipython",
    "version": 3
   },
   "file_extension": ".py",
   "mimetype": "text/x-python",
   "name": "python",
   "nbconvert_exporter": "python",
   "pygments_lexer": "ipython3",
   "version": "3.10.12"
  },
  "papermill": {
   "default_parameters": {},
   "duration": 48.145841,
   "end_time": "2025-01-04T13:50:33.705417",
   "environment_variables": {},
   "exception": null,
   "input_path": "__notebook__.ipynb",
   "output_path": "__notebook__.ipynb",
   "parameters": {},
   "start_time": "2025-01-04T13:49:45.559576",
   "version": "2.6.0"
  }
 },
 "nbformat": 4,
 "nbformat_minor": 5
}
