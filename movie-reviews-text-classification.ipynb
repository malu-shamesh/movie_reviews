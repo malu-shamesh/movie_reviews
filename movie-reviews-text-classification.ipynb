{
 "cells": [
  {
   "cell_type": "code",
   "execution_count": 1,
   "id": "364a8567",
   "metadata": {
    "_cell_guid": "b1076dfc-b9ad-4769-8c92-a6c4dae69d19",
    "_uuid": "8f2839f25d086af736a60e9eeb907d3b93b6e0e5",
    "execution": {
     "iopub.execute_input": "2025-01-11T08:00:37.168854Z",
     "iopub.status.busy": "2025-01-11T08:00:37.168390Z",
     "iopub.status.idle": "2025-01-11T08:00:37.180684Z",
     "shell.execute_reply": "2025-01-11T08:00:37.179498Z"
    },
    "papermill": {
     "duration": 0.024097,
     "end_time": "2025-01-11T08:00:37.182596",
     "exception": false,
     "start_time": "2025-01-11T08:00:37.158499",
     "status": "completed"
    },
    "tags": []
   },
   "outputs": [
    {
     "name": "stdout",
     "output_type": "stream",
     "text": [
      "/kaggle/input/imdb-dataset-of-50k-movie-reviews/IMDB Dataset.csv\n"
     ]
    }
   ],
   "source": [
    "# This Python 3 environment comes with many helpful analytics libraries installed\n",
    "# It is defined by the kaggle/python Docker image: https://github.com/kaggle/docker-python\n",
    "# For example, here's several helpful packages to load\n",
    "\n",
    "# Input data files are available in the read-only \"../input/\" directory\n",
    "# For example, running this (by clicking run or pressing Shift+Enter) will list all files under the input directory\n",
    "\n",
    "import os\n",
    "for dirname, _, filenames in os.walk('/kaggle/input'):\n",
    "    for filename in filenames:\n",
    "        print(os.path.join(dirname, filename))\n",
    "\n",
    "# You can write up to 20GB to the current directory (/kaggle/working/) that gets preserved as output when you create a version using \"Save & Run All\" \n",
    "# You can also write temporary files to /kaggle/temp/, but they won't be saved outside of the current session"
   ]
  },
  {
   "cell_type": "code",
   "execution_count": 2,
   "id": "01e08533",
   "metadata": {
    "execution": {
     "iopub.execute_input": "2025-01-11T08:00:37.200415Z",
     "iopub.status.busy": "2025-01-11T08:00:37.200061Z",
     "iopub.status.idle": "2025-01-11T08:00:39.622561Z",
     "shell.execute_reply": "2025-01-11T08:00:39.621174Z"
    },
    "papermill": {
     "duration": 2.434071,
     "end_time": "2025-01-11T08:00:39.624936",
     "exception": false,
     "start_time": "2025-01-11T08:00:37.190865",
     "status": "completed"
    },
    "tags": []
   },
   "outputs": [],
   "source": [
    "import numpy as np \n",
    "import pandas as pd \n",
    "import nltk\n",
    "import sklearn"
   ]
  },
  {
   "cell_type": "code",
   "execution_count": 3,
   "id": "39891103",
   "metadata": {
    "execution": {
     "iopub.execute_input": "2025-01-11T08:00:39.644367Z",
     "iopub.status.busy": "2025-01-11T08:00:39.643872Z",
     "iopub.status.idle": "2025-01-11T08:00:41.193153Z",
     "shell.execute_reply": "2025-01-11T08:00:41.191933Z"
    },
    "papermill": {
     "duration": 1.560243,
     "end_time": "2025-01-11T08:00:41.194964",
     "exception": false,
     "start_time": "2025-01-11T08:00:39.634721",
     "status": "completed"
    },
    "tags": []
   },
   "outputs": [
    {
     "data": {
      "text/html": [
       "<div>\n",
       "<style scoped>\n",
       "    .dataframe tbody tr th:only-of-type {\n",
       "        vertical-align: middle;\n",
       "    }\n",
       "\n",
       "    .dataframe tbody tr th {\n",
       "        vertical-align: top;\n",
       "    }\n",
       "\n",
       "    .dataframe thead th {\n",
       "        text-align: right;\n",
       "    }\n",
       "</style>\n",
       "<table border=\"1\" class=\"dataframe\">\n",
       "  <thead>\n",
       "    <tr style=\"text-align: right;\">\n",
       "      <th></th>\n",
       "      <th>review</th>\n",
       "      <th>sentiment</th>\n",
       "    </tr>\n",
       "  </thead>\n",
       "  <tbody>\n",
       "    <tr>\n",
       "      <th>0</th>\n",
       "      <td>One of the other reviewers has mentioned that ...</td>\n",
       "      <td>positive</td>\n",
       "    </tr>\n",
       "    <tr>\n",
       "      <th>1</th>\n",
       "      <td>A wonderful little production. &lt;br /&gt;&lt;br /&gt;The...</td>\n",
       "      <td>positive</td>\n",
       "    </tr>\n",
       "    <tr>\n",
       "      <th>2</th>\n",
       "      <td>I thought this was a wonderful way to spend ti...</td>\n",
       "      <td>positive</td>\n",
       "    </tr>\n",
       "    <tr>\n",
       "      <th>3</th>\n",
       "      <td>Basically there's a family where a little boy ...</td>\n",
       "      <td>negative</td>\n",
       "    </tr>\n",
       "    <tr>\n",
       "      <th>4</th>\n",
       "      <td>Petter Mattei's \"Love in the Time of Money\" is...</td>\n",
       "      <td>positive</td>\n",
       "    </tr>\n",
       "  </tbody>\n",
       "</table>\n",
       "</div>"
      ],
      "text/plain": [
       "                                              review sentiment\n",
       "0  One of the other reviewers has mentioned that ...  positive\n",
       "1  A wonderful little production. <br /><br />The...  positive\n",
       "2  I thought this was a wonderful way to spend ti...  positive\n",
       "3  Basically there's a family where a little boy ...  negative\n",
       "4  Petter Mattei's \"Love in the Time of Money\" is...  positive"
      ]
     },
     "execution_count": 3,
     "metadata": {},
     "output_type": "execute_result"
    }
   ],
   "source": [
    "# read the datafile\n",
    "df = pd.read_csv('/kaggle/input/imdb-dataset-of-50k-movie-reviews/IMDB Dataset.csv')\n",
    "df.head()"
   ]
  },
  {
   "cell_type": "code",
   "execution_count": 4,
   "id": "3e8c9341",
   "metadata": {
    "execution": {
     "iopub.execute_input": "2025-01-11T08:00:41.213314Z",
     "iopub.status.busy": "2025-01-11T08:00:41.212955Z",
     "iopub.status.idle": "2025-01-11T08:00:41.222466Z",
     "shell.execute_reply": "2025-01-11T08:00:41.221245Z"
    },
    "papermill": {
     "duration": 0.020812,
     "end_time": "2025-01-11T08:00:41.224492",
     "exception": false,
     "start_time": "2025-01-11T08:00:41.203680",
     "status": "completed"
    },
    "tags": []
   },
   "outputs": [
    {
     "data": {
      "text/html": [
       "<div>\n",
       "<style scoped>\n",
       "    .dataframe tbody tr th:only-of-type {\n",
       "        vertical-align: middle;\n",
       "    }\n",
       "\n",
       "    .dataframe tbody tr th {\n",
       "        vertical-align: top;\n",
       "    }\n",
       "\n",
       "    .dataframe thead th {\n",
       "        text-align: right;\n",
       "    }\n",
       "</style>\n",
       "<table border=\"1\" class=\"dataframe\">\n",
       "  <thead>\n",
       "    <tr style=\"text-align: right;\">\n",
       "      <th></th>\n",
       "      <th>review</th>\n",
       "      <th>sentiment</th>\n",
       "    </tr>\n",
       "  </thead>\n",
       "  <tbody>\n",
       "    <tr>\n",
       "      <th>0</th>\n",
       "      <td>One of the other reviewers has mentioned that ...</td>\n",
       "      <td>positive</td>\n",
       "    </tr>\n",
       "    <tr>\n",
       "      <th>1</th>\n",
       "      <td>A wonderful little production. &lt;br /&gt;&lt;br /&gt;The...</td>\n",
       "      <td>positive</td>\n",
       "    </tr>\n",
       "    <tr>\n",
       "      <th>2</th>\n",
       "      <td>I thought this was a wonderful way to spend ti...</td>\n",
       "      <td>positive</td>\n",
       "    </tr>\n",
       "    <tr>\n",
       "      <th>3</th>\n",
       "      <td>Basically there's a family where a little boy ...</td>\n",
       "      <td>negative</td>\n",
       "    </tr>\n",
       "    <tr>\n",
       "      <th>4</th>\n",
       "      <td>Petter Mattei's \"Love in the Time of Money\" is...</td>\n",
       "      <td>positive</td>\n",
       "    </tr>\n",
       "  </tbody>\n",
       "</table>\n",
       "</div>"
      ],
      "text/plain": [
       "                                              review sentiment\n",
       "0  One of the other reviewers has mentioned that ...  positive\n",
       "1  A wonderful little production. <br /><br />The...  positive\n",
       "2  I thought this was a wonderful way to spend ti...  positive\n",
       "3  Basically there's a family where a little boy ...  negative\n",
       "4  Petter Mattei's \"Love in the Time of Money\" is...  positive"
      ]
     },
     "execution_count": 4,
     "metadata": {},
     "output_type": "execute_result"
    }
   ],
   "source": [
    "df = df.iloc[:10000]\n",
    "df.head()"
   ]
  },
  {
   "cell_type": "code",
   "execution_count": 5,
   "id": "c5931172",
   "metadata": {
    "execution": {
     "iopub.execute_input": "2025-01-11T08:00:41.243168Z",
     "iopub.status.busy": "2025-01-11T08:00:41.242658Z",
     "iopub.status.idle": "2025-01-11T08:00:41.249210Z",
     "shell.execute_reply": "2025-01-11T08:00:41.248068Z"
    },
    "papermill": {
     "duration": 0.017578,
     "end_time": "2025-01-11T08:00:41.250965",
     "exception": false,
     "start_time": "2025-01-11T08:00:41.233387",
     "status": "completed"
    },
    "tags": []
   },
   "outputs": [
    {
     "data": {
      "text/plain": [
       "(10000, 2)"
      ]
     },
     "execution_count": 5,
     "metadata": {},
     "output_type": "execute_result"
    }
   ],
   "source": [
    "df.shape"
   ]
  },
  {
   "cell_type": "code",
   "execution_count": 6,
   "id": "226517b3",
   "metadata": {
    "execution": {
     "iopub.execute_input": "2025-01-11T08:00:41.273755Z",
     "iopub.status.busy": "2025-01-11T08:00:41.273317Z",
     "iopub.status.idle": "2025-01-11T08:00:41.280701Z",
     "shell.execute_reply": "2025-01-11T08:00:41.279465Z"
    },
    "papermill": {
     "duration": 0.02338,
     "end_time": "2025-01-11T08:00:41.283153",
     "exception": false,
     "start_time": "2025-01-11T08:00:41.259773",
     "status": "completed"
    },
    "tags": []
   },
   "outputs": [
    {
     "data": {
      "text/plain": [
       "\"One of the other reviewers has mentioned that after watching just 1 Oz episode you'll be hooked. They are right, as this is exactly what happened with me.<br /><br />The first thing that struck me about Oz was its brutality and unflinching scenes of violence, which set in right from the word GO. Trust me, this is not a show for the faint hearted or timid. This show pulls no punches with regards to drugs, sex or violence. Its is hardcore, in the classic use of the word.<br /><br />It is called OZ as that is the nickname given to the Oswald Maximum Security State Penitentary. It focuses mainly on Emerald City, an experimental section of the prison where all the cells have glass fronts and face inwards, so privacy is not high on the agenda. Em City is home to many..Aryans, Muslims, gangstas, Latinos, Christians, Italians, Irish and more....so scuffles, death stares, dodgy dealings and shady agreements are never far away.<br /><br />I would say the main appeal of the show is due to the fact that it goes where other shows wouldn't dare. Forget pretty pictures painted for mainstream audiences, forget charm, forget romance...OZ doesn't mess around. The first episode I ever saw struck me as so nasty it was surreal, I couldn't say I was ready for it, but as I watched more, I developed a taste for Oz, and got accustomed to the high levels of graphic violence. Not just violence, but injustice (crooked guards who'll be sold out for a nickel, inmates who'll kill on order and get away with it, well mannered, middle class inmates being turned into prison bitches due to their lack of street skills or prison experience) Watching Oz, you may become comfortable with what is uncomfortable viewing....thats if you can get in touch with your darker side.\""
      ]
     },
     "execution_count": 6,
     "metadata": {},
     "output_type": "execute_result"
    }
   ],
   "source": [
    "df['review'][0]"
   ]
  },
  {
   "cell_type": "code",
   "execution_count": 7,
   "id": "c9c2f235",
   "metadata": {
    "execution": {
     "iopub.execute_input": "2025-01-11T08:00:41.310382Z",
     "iopub.status.busy": "2025-01-11T08:00:41.310015Z",
     "iopub.status.idle": "2025-01-11T08:00:41.328652Z",
     "shell.execute_reply": "2025-01-11T08:00:41.327400Z"
    },
    "papermill": {
     "duration": 0.037891,
     "end_time": "2025-01-11T08:00:41.330459",
     "exception": false,
     "start_time": "2025-01-11T08:00:41.292568",
     "status": "completed"
    },
    "tags": []
   },
   "outputs": [
    {
     "data": {
      "text/plain": [
       "sentiment\n",
       "positive    5028\n",
       "negative    4972\n",
       "Name: count, dtype: int64"
      ]
     },
     "execution_count": 7,
     "metadata": {},
     "output_type": "execute_result"
    }
   ],
   "source": [
    "df['sentiment'].value_counts()"
   ]
  },
  {
   "cell_type": "code",
   "execution_count": 8,
   "id": "c16d9e15",
   "metadata": {
    "execution": {
     "iopub.execute_input": "2025-01-11T08:00:41.348906Z",
     "iopub.status.busy": "2025-01-11T08:00:41.348512Z",
     "iopub.status.idle": "2025-01-11T08:00:41.359726Z",
     "shell.execute_reply": "2025-01-11T08:00:41.358675Z"
    },
    "papermill": {
     "duration": 0.022346,
     "end_time": "2025-01-11T08:00:41.361485",
     "exception": false,
     "start_time": "2025-01-11T08:00:41.339139",
     "status": "completed"
    },
    "tags": []
   },
   "outputs": [
    {
     "data": {
      "text/plain": [
       "review       0\n",
       "sentiment    0\n",
       "dtype: int64"
      ]
     },
     "execution_count": 8,
     "metadata": {},
     "output_type": "execute_result"
    }
   ],
   "source": [
    "df.isnull().sum()"
   ]
  },
  {
   "cell_type": "code",
   "execution_count": 9,
   "id": "2259aefd",
   "metadata": {
    "execution": {
     "iopub.execute_input": "2025-01-11T08:00:41.380198Z",
     "iopub.status.busy": "2025-01-11T08:00:41.379705Z",
     "iopub.status.idle": "2025-01-11T08:00:41.434326Z",
     "shell.execute_reply": "2025-01-11T08:00:41.432934Z"
    },
    "papermill": {
     "duration": 0.066268,
     "end_time": "2025-01-11T08:00:41.436451",
     "exception": false,
     "start_time": "2025-01-11T08:00:41.370183",
     "status": "completed"
    },
    "tags": []
   },
   "outputs": [
    {
     "data": {
      "text/plain": [
       "17"
      ]
     },
     "execution_count": 9,
     "metadata": {},
     "output_type": "execute_result"
    }
   ],
   "source": [
    "df.duplicated().sum()"
   ]
  },
  {
   "cell_type": "code",
   "execution_count": 10,
   "id": "3d9c198a",
   "metadata": {
    "execution": {
     "iopub.execute_input": "2025-01-11T08:00:41.455521Z",
     "iopub.status.busy": "2025-01-11T08:00:41.455052Z",
     "iopub.status.idle": "2025-01-11T08:00:41.501453Z",
     "shell.execute_reply": "2025-01-11T08:00:41.500296Z"
    },
    "papermill": {
     "duration": 0.05802,
     "end_time": "2025-01-11T08:00:41.503470",
     "exception": false,
     "start_time": "2025-01-11T08:00:41.445450",
     "status": "completed"
    },
    "tags": []
   },
   "outputs": [],
   "source": [
    "df.drop_duplicates(inplace=True)"
   ]
  },
  {
   "cell_type": "code",
   "execution_count": 11,
   "id": "a3a47430",
   "metadata": {
    "execution": {
     "iopub.execute_input": "2025-01-11T08:00:41.522302Z",
     "iopub.status.busy": "2025-01-11T08:00:41.521967Z",
     "iopub.status.idle": "2025-01-11T08:00:41.530174Z",
     "shell.execute_reply": "2025-01-11T08:00:41.529041Z"
    },
    "papermill": {
     "duration": 0.019769,
     "end_time": "2025-01-11T08:00:41.532129",
     "exception": false,
     "start_time": "2025-01-11T08:00:41.512360",
     "status": "completed"
    },
    "tags": []
   },
   "outputs": [
    {
     "data": {
      "text/plain": [
       "sentiment\n",
       "positive    5023\n",
       "negative    4960\n",
       "Name: count, dtype: int64"
      ]
     },
     "execution_count": 11,
     "metadata": {},
     "output_type": "execute_result"
    }
   ],
   "source": [
    "df['sentiment'].value_counts()"
   ]
  },
  {
   "cell_type": "markdown",
   "id": "d2728293",
   "metadata": {
    "papermill": {
     "duration": 0.008564,
     "end_time": "2025-01-11T08:00:41.549706",
     "exception": false,
     "start_time": "2025-01-11T08:00:41.541142",
     "status": "completed"
    },
    "tags": []
   },
   "source": [
    "# PREPROCESSING"
   ]
  },
  {
   "cell_type": "code",
   "execution_count": 12,
   "id": "da6425e2",
   "metadata": {
    "execution": {
     "iopub.execute_input": "2025-01-11T08:00:41.568522Z",
     "iopub.status.busy": "2025-01-11T08:00:41.568194Z",
     "iopub.status.idle": "2025-01-11T08:00:41.572951Z",
     "shell.execute_reply": "2025-01-11T08:00:41.571865Z"
    },
    "papermill": {
     "duration": 0.016167,
     "end_time": "2025-01-11T08:00:41.574601",
     "exception": false,
     "start_time": "2025-01-11T08:00:41.558434",
     "status": "completed"
    },
    "tags": []
   },
   "outputs": [],
   "source": [
    "import re\n",
    "def remove_tags(raw_text):\n",
    "    cleaned_text = re.sub(re.compile('<.*?>'), '', raw_text)\n",
    "    return cleaned_text"
   ]
  },
  {
   "cell_type": "code",
   "execution_count": 13,
   "id": "a4a40fbc",
   "metadata": {
    "execution": {
     "iopub.execute_input": "2025-01-11T08:00:41.593774Z",
     "iopub.status.busy": "2025-01-11T08:00:41.593300Z",
     "iopub.status.idle": "2025-01-11T08:00:41.657271Z",
     "shell.execute_reply": "2025-01-11T08:00:41.656201Z"
    },
    "papermill": {
     "duration": 0.076079,
     "end_time": "2025-01-11T08:00:41.659606",
     "exception": false,
     "start_time": "2025-01-11T08:00:41.583527",
     "status": "completed"
    },
    "tags": []
   },
   "outputs": [],
   "source": [
    "df['review'] = df['review'].apply(remove_tags)"
   ]
  },
  {
   "cell_type": "code",
   "execution_count": 14,
   "id": "a6908ce3",
   "metadata": {
    "execution": {
     "iopub.execute_input": "2025-01-11T08:00:41.685085Z",
     "iopub.status.busy": "2025-01-11T08:00:41.684575Z",
     "iopub.status.idle": "2025-01-11T08:00:41.695499Z",
     "shell.execute_reply": "2025-01-11T08:00:41.694421Z"
    },
    "papermill": {
     "duration": 0.022661,
     "end_time": "2025-01-11T08:00:41.697340",
     "exception": false,
     "start_time": "2025-01-11T08:00:41.674679",
     "status": "completed"
    },
    "tags": []
   },
   "outputs": [
    {
     "data": {
      "text/html": [
       "<div>\n",
       "<style scoped>\n",
       "    .dataframe tbody tr th:only-of-type {\n",
       "        vertical-align: middle;\n",
       "    }\n",
       "\n",
       "    .dataframe tbody tr th {\n",
       "        vertical-align: top;\n",
       "    }\n",
       "\n",
       "    .dataframe thead th {\n",
       "        text-align: right;\n",
       "    }\n",
       "</style>\n",
       "<table border=\"1\" class=\"dataframe\">\n",
       "  <thead>\n",
       "    <tr style=\"text-align: right;\">\n",
       "      <th></th>\n",
       "      <th>review</th>\n",
       "      <th>sentiment</th>\n",
       "    </tr>\n",
       "  </thead>\n",
       "  <tbody>\n",
       "    <tr>\n",
       "      <th>0</th>\n",
       "      <td>One of the other reviewers has mentioned that ...</td>\n",
       "      <td>positive</td>\n",
       "    </tr>\n",
       "    <tr>\n",
       "      <th>1</th>\n",
       "      <td>A wonderful little production. The filming tec...</td>\n",
       "      <td>positive</td>\n",
       "    </tr>\n",
       "    <tr>\n",
       "      <th>2</th>\n",
       "      <td>I thought this was a wonderful way to spend ti...</td>\n",
       "      <td>positive</td>\n",
       "    </tr>\n",
       "    <tr>\n",
       "      <th>3</th>\n",
       "      <td>Basically there's a family where a little boy ...</td>\n",
       "      <td>negative</td>\n",
       "    </tr>\n",
       "    <tr>\n",
       "      <th>4</th>\n",
       "      <td>Petter Mattei's \"Love in the Time of Money\" is...</td>\n",
       "      <td>positive</td>\n",
       "    </tr>\n",
       "  </tbody>\n",
       "</table>\n",
       "</div>"
      ],
      "text/plain": [
       "                                              review sentiment\n",
       "0  One of the other reviewers has mentioned that ...  positive\n",
       "1  A wonderful little production. The filming tec...  positive\n",
       "2  I thought this was a wonderful way to spend ti...  positive\n",
       "3  Basically there's a family where a little boy ...  negative\n",
       "4  Petter Mattei's \"Love in the Time of Money\" is...  positive"
      ]
     },
     "execution_count": 14,
     "metadata": {},
     "output_type": "execute_result"
    }
   ],
   "source": [
    "df.head()"
   ]
  },
  {
   "cell_type": "code",
   "execution_count": 15,
   "id": "91208c1e",
   "metadata": {
    "execution": {
     "iopub.execute_input": "2025-01-11T08:00:41.723163Z",
     "iopub.status.busy": "2025-01-11T08:00:41.722668Z",
     "iopub.status.idle": "2025-01-11T08:00:41.731113Z",
     "shell.execute_reply": "2025-01-11T08:00:41.729834Z"
    },
    "papermill": {
     "duration": 0.020642,
     "end_time": "2025-01-11T08:00:41.733142",
     "exception": false,
     "start_time": "2025-01-11T08:00:41.712500",
     "status": "completed"
    },
    "tags": []
   },
   "outputs": [
    {
     "data": {
      "text/plain": [
       "\"One of the other reviewers has mentioned that after watching just 1 Oz episode you'll be hooked. They are right, as this is exactly what happened with me.The first thing that struck me about Oz was its brutality and unflinching scenes of violence, which set in right from the word GO. Trust me, this is not a show for the faint hearted or timid. This show pulls no punches with regards to drugs, sex or violence. Its is hardcore, in the classic use of the word.It is called OZ as that is the nickname given to the Oswald Maximum Security State Penitentary. It focuses mainly on Emerald City, an experimental section of the prison where all the cells have glass fronts and face inwards, so privacy is not high on the agenda. Em City is home to many..Aryans, Muslims, gangstas, Latinos, Christians, Italians, Irish and more....so scuffles, death stares, dodgy dealings and shady agreements are never far away.I would say the main appeal of the show is due to the fact that it goes where other shows wouldn't dare. Forget pretty pictures painted for mainstream audiences, forget charm, forget romance...OZ doesn't mess around. The first episode I ever saw struck me as so nasty it was surreal, I couldn't say I was ready for it, but as I watched more, I developed a taste for Oz, and got accustomed to the high levels of graphic violence. Not just violence, but injustice (crooked guards who'll be sold out for a nickel, inmates who'll kill on order and get away with it, well mannered, middle class inmates being turned into prison bitches due to their lack of street skills or prison experience) Watching Oz, you may become comfortable with what is uncomfortable viewing....thats if you can get in touch with your darker side.\""
      ]
     },
     "execution_count": 15,
     "metadata": {},
     "output_type": "execute_result"
    }
   ],
   "source": [
    "df['review'][0]"
   ]
  },
  {
   "cell_type": "code",
   "execution_count": 16,
   "id": "6adf5f9f",
   "metadata": {
    "execution": {
     "iopub.execute_input": "2025-01-11T08:00:41.752850Z",
     "iopub.status.busy": "2025-01-11T08:00:41.752365Z",
     "iopub.status.idle": "2025-01-11T08:00:41.791049Z",
     "shell.execute_reply": "2025-01-11T08:00:41.789901Z"
    },
    "papermill": {
     "duration": 0.051176,
     "end_time": "2025-01-11T08:00:41.793574",
     "exception": false,
     "start_time": "2025-01-11T08:00:41.742398",
     "status": "completed"
    },
    "tags": []
   },
   "outputs": [],
   "source": [
    "df['review'] = df['review'].apply(lambda x:x.lower())"
   ]
  },
  {
   "cell_type": "code",
   "execution_count": 17,
   "id": "aaf2e340",
   "metadata": {
    "execution": {
     "iopub.execute_input": "2025-01-11T08:00:41.820616Z",
     "iopub.status.busy": "2025-01-11T08:00:41.820139Z",
     "iopub.status.idle": "2025-01-11T08:00:41.826450Z",
     "shell.execute_reply": "2025-01-11T08:00:41.825407Z"
    },
    "papermill": {
     "duration": 0.018285,
     "end_time": "2025-01-11T08:00:41.828308",
     "exception": false,
     "start_time": "2025-01-11T08:00:41.810023",
     "status": "completed"
    },
    "tags": []
   },
   "outputs": [
    {
     "data": {
      "text/plain": [
       "\"one of the other reviewers has mentioned that after watching just 1 oz episode you'll be hooked. they are right, as this is exactly what happened with me.the first thing that struck me about oz was its brutality and unflinching scenes of violence, which set in right from the word go. trust me, this is not a show for the faint hearted or timid. this show pulls no punches with regards to drugs, sex or violence. its is hardcore, in the classic use of the word.it is called oz as that is the nickname given to the oswald maximum security state penitentary. it focuses mainly on emerald city, an experimental section of the prison where all the cells have glass fronts and face inwards, so privacy is not high on the agenda. em city is home to many..aryans, muslims, gangstas, latinos, christians, italians, irish and more....so scuffles, death stares, dodgy dealings and shady agreements are never far away.i would say the main appeal of the show is due to the fact that it goes where other shows wouldn't dare. forget pretty pictures painted for mainstream audiences, forget charm, forget romance...oz doesn't mess around. the first episode i ever saw struck me as so nasty it was surreal, i couldn't say i was ready for it, but as i watched more, i developed a taste for oz, and got accustomed to the high levels of graphic violence. not just violence, but injustice (crooked guards who'll be sold out for a nickel, inmates who'll kill on order and get away with it, well mannered, middle class inmates being turned into prison bitches due to their lack of street skills or prison experience) watching oz, you may become comfortable with what is uncomfortable viewing....thats if you can get in touch with your darker side.\""
      ]
     },
     "execution_count": 17,
     "metadata": {},
     "output_type": "execute_result"
    }
   ],
   "source": [
    "df['review'][0]"
   ]
  },
  {
   "cell_type": "code",
   "execution_count": 18,
   "id": "81d2ff3a",
   "metadata": {
    "execution": {
     "iopub.execute_input": "2025-01-11T08:00:41.848289Z",
     "iopub.status.busy": "2025-01-11T08:00:41.847810Z",
     "iopub.status.idle": "2025-01-11T08:00:46.613879Z",
     "shell.execute_reply": "2025-01-11T08:00:46.612524Z"
    },
    "papermill": {
     "duration": 4.778366,
     "end_time": "2025-01-11T08:00:46.615924",
     "exception": false,
     "start_time": "2025-01-11T08:00:41.837558",
     "status": "completed"
    },
    "tags": []
   },
   "outputs": [
    {
     "name": "stdout",
     "output_type": "stream",
     "text": [
      "[nltk_data] Downloading package stopwords to /usr/share/nltk_data...\n",
      "[nltk_data]   Package stopwords is already up-to-date!\n"
     ]
    }
   ],
   "source": [
    "from nltk.corpus import stopwords\n",
    "\n",
    "nltk.download('stopwords')\n",
    "sw_list = stopwords.words('english')\n",
    "\n",
    "df['review'] = df['review'].apply(lambda x: [item for item in x.split() if item not in sw_list]).apply(lambda x: \" \".join(x))"
   ]
  },
  {
   "cell_type": "code",
   "execution_count": 19,
   "id": "07bc207a",
   "metadata": {
    "execution": {
     "iopub.execute_input": "2025-01-11T08:00:46.636343Z",
     "iopub.status.busy": "2025-01-11T08:00:46.636002Z",
     "iopub.status.idle": "2025-01-11T08:00:46.642250Z",
     "shell.execute_reply": "2025-01-11T08:00:46.641289Z"
    },
    "papermill": {
     "duration": 0.018387,
     "end_time": "2025-01-11T08:00:46.644191",
     "exception": false,
     "start_time": "2025-01-11T08:00:46.625804",
     "status": "completed"
    },
    "tags": []
   },
   "outputs": [
    {
     "data": {
      "text/plain": [
       "\"one reviewers mentioned watching 1 oz episode hooked. right, exactly happened me.the first thing struck oz brutality unflinching scenes violence, set right word go. trust me, show faint hearted timid. show pulls punches regards drugs, sex violence. hardcore, classic use word.it called oz nickname given oswald maximum security state penitentary. focuses mainly emerald city, experimental section prison cells glass fronts face inwards, privacy high agenda. em city home many..aryans, muslims, gangstas, latinos, christians, italians, irish more....so scuffles, death stares, dodgy dealings shady agreements never far away.i would say main appeal show due fact goes shows dare. forget pretty pictures painted mainstream audiences, forget charm, forget romance...oz mess around. first episode ever saw struck nasty surreal, say ready it, watched more, developed taste oz, got accustomed high levels graphic violence. violence, injustice (crooked guards who'll sold nickel, inmates who'll kill order get away it, well mannered, middle class inmates turned prison bitches due lack street skills prison experience) watching oz, may become comfortable uncomfortable viewing....thats get touch darker side.\""
      ]
     },
     "execution_count": 19,
     "metadata": {},
     "output_type": "execute_result"
    }
   ],
   "source": [
    "df['review'][0]"
   ]
  },
  {
   "cell_type": "code",
   "execution_count": 20,
   "id": "1f25678f",
   "metadata": {
    "execution": {
     "iopub.execute_input": "2025-01-11T08:00:46.664598Z",
     "iopub.status.busy": "2025-01-11T08:00:46.664249Z",
     "iopub.status.idle": "2025-01-11T08:00:46.673336Z",
     "shell.execute_reply": "2025-01-11T08:00:46.672311Z"
    },
    "papermill": {
     "duration": 0.021097,
     "end_time": "2025-01-11T08:00:46.674945",
     "exception": false,
     "start_time": "2025-01-11T08:00:46.653848",
     "status": "completed"
    },
    "tags": []
   },
   "outputs": [
    {
     "data": {
      "text/html": [
       "<div>\n",
       "<style scoped>\n",
       "    .dataframe tbody tr th:only-of-type {\n",
       "        vertical-align: middle;\n",
       "    }\n",
       "\n",
       "    .dataframe tbody tr th {\n",
       "        vertical-align: top;\n",
       "    }\n",
       "\n",
       "    .dataframe thead th {\n",
       "        text-align: right;\n",
       "    }\n",
       "</style>\n",
       "<table border=\"1\" class=\"dataframe\">\n",
       "  <thead>\n",
       "    <tr style=\"text-align: right;\">\n",
       "      <th></th>\n",
       "      <th>review</th>\n",
       "      <th>sentiment</th>\n",
       "    </tr>\n",
       "  </thead>\n",
       "  <tbody>\n",
       "    <tr>\n",
       "      <th>0</th>\n",
       "      <td>one reviewers mentioned watching 1 oz episode ...</td>\n",
       "      <td>positive</td>\n",
       "    </tr>\n",
       "    <tr>\n",
       "      <th>1</th>\n",
       "      <td>wonderful little production. filming technique...</td>\n",
       "      <td>positive</td>\n",
       "    </tr>\n",
       "    <tr>\n",
       "      <th>2</th>\n",
       "      <td>thought wonderful way spend time hot summer we...</td>\n",
       "      <td>positive</td>\n",
       "    </tr>\n",
       "    <tr>\n",
       "      <th>3</th>\n",
       "      <td>basically there's family little boy (jake) thi...</td>\n",
       "      <td>negative</td>\n",
       "    </tr>\n",
       "    <tr>\n",
       "      <th>4</th>\n",
       "      <td>petter mattei's \"love time money\" visually stu...</td>\n",
       "      <td>positive</td>\n",
       "    </tr>\n",
       "  </tbody>\n",
       "</table>\n",
       "</div>"
      ],
      "text/plain": [
       "                                              review sentiment\n",
       "0  one reviewers mentioned watching 1 oz episode ...  positive\n",
       "1  wonderful little production. filming technique...  positive\n",
       "2  thought wonderful way spend time hot summer we...  positive\n",
       "3  basically there's family little boy (jake) thi...  negative\n",
       "4  petter mattei's \"love time money\" visually stu...  positive"
      ]
     },
     "execution_count": 20,
     "metadata": {},
     "output_type": "execute_result"
    }
   ],
   "source": [
    "df.head()"
   ]
  },
  {
   "cell_type": "code",
   "execution_count": 21,
   "id": "7c857a00",
   "metadata": {
    "execution": {
     "iopub.execute_input": "2025-01-11T08:00:46.695858Z",
     "iopub.status.busy": "2025-01-11T08:00:46.695435Z",
     "iopub.status.idle": "2025-01-11T08:00:46.701204Z",
     "shell.execute_reply": "2025-01-11T08:00:46.700160Z"
    },
    "papermill": {
     "duration": 0.018313,
     "end_time": "2025-01-11T08:00:46.703246",
     "exception": false,
     "start_time": "2025-01-11T08:00:46.684933",
     "status": "completed"
    },
    "tags": []
   },
   "outputs": [],
   "source": [
    "x = df.iloc[:,0:1]\n",
    "y = df['sentiment']"
   ]
  },
  {
   "cell_type": "code",
   "execution_count": 22,
   "id": "0db2cec2",
   "metadata": {
    "execution": {
     "iopub.execute_input": "2025-01-11T08:00:46.723363Z",
     "iopub.status.busy": "2025-01-11T08:00:46.723014Z",
     "iopub.status.idle": "2025-01-11T08:00:46.731455Z",
     "shell.execute_reply": "2025-01-11T08:00:46.730415Z"
    },
    "papermill": {
     "duration": 0.020443,
     "end_time": "2025-01-11T08:00:46.733181",
     "exception": false,
     "start_time": "2025-01-11T08:00:46.712738",
     "status": "completed"
    },
    "tags": []
   },
   "outputs": [
    {
     "data": {
      "text/html": [
       "<div>\n",
       "<style scoped>\n",
       "    .dataframe tbody tr th:only-of-type {\n",
       "        vertical-align: middle;\n",
       "    }\n",
       "\n",
       "    .dataframe tbody tr th {\n",
       "        vertical-align: top;\n",
       "    }\n",
       "\n",
       "    .dataframe thead th {\n",
       "        text-align: right;\n",
       "    }\n",
       "</style>\n",
       "<table border=\"1\" class=\"dataframe\">\n",
       "  <thead>\n",
       "    <tr style=\"text-align: right;\">\n",
       "      <th></th>\n",
       "      <th>review</th>\n",
       "    </tr>\n",
       "  </thead>\n",
       "  <tbody>\n",
       "    <tr>\n",
       "      <th>0</th>\n",
       "      <td>one reviewers mentioned watching 1 oz episode ...</td>\n",
       "    </tr>\n",
       "    <tr>\n",
       "      <th>1</th>\n",
       "      <td>wonderful little production. filming technique...</td>\n",
       "    </tr>\n",
       "    <tr>\n",
       "      <th>2</th>\n",
       "      <td>thought wonderful way spend time hot summer we...</td>\n",
       "    </tr>\n",
       "    <tr>\n",
       "      <th>3</th>\n",
       "      <td>basically there's family little boy (jake) thi...</td>\n",
       "    </tr>\n",
       "    <tr>\n",
       "      <th>4</th>\n",
       "      <td>petter mattei's \"love time money\" visually stu...</td>\n",
       "    </tr>\n",
       "  </tbody>\n",
       "</table>\n",
       "</div>"
      ],
      "text/plain": [
       "                                              review\n",
       "0  one reviewers mentioned watching 1 oz episode ...\n",
       "1  wonderful little production. filming technique...\n",
       "2  thought wonderful way spend time hot summer we...\n",
       "3  basically there's family little boy (jake) thi...\n",
       "4  petter mattei's \"love time money\" visually stu..."
      ]
     },
     "execution_count": 22,
     "metadata": {},
     "output_type": "execute_result"
    }
   ],
   "source": [
    "x.head()"
   ]
  },
  {
   "cell_type": "code",
   "execution_count": 23,
   "id": "c8be7fc7",
   "metadata": {
    "execution": {
     "iopub.execute_input": "2025-01-11T08:00:46.753425Z",
     "iopub.status.busy": "2025-01-11T08:00:46.753059Z",
     "iopub.status.idle": "2025-01-11T08:00:46.760406Z",
     "shell.execute_reply": "2025-01-11T08:00:46.759237Z"
    },
    "papermill": {
     "duration": 0.019271,
     "end_time": "2025-01-11T08:00:46.762093",
     "exception": false,
     "start_time": "2025-01-11T08:00:46.742822",
     "status": "completed"
    },
    "tags": []
   },
   "outputs": [
    {
     "data": {
      "text/plain": [
       "0       positive\n",
       "1       positive\n",
       "2       positive\n",
       "3       negative\n",
       "4       positive\n",
       "          ...   \n",
       "9995    positive\n",
       "9996    negative\n",
       "9997    negative\n",
       "9998    negative\n",
       "9999    positive\n",
       "Name: sentiment, Length: 9983, dtype: object"
      ]
     },
     "execution_count": 23,
     "metadata": {},
     "output_type": "execute_result"
    }
   ],
   "source": [
    "y"
   ]
  },
  {
   "cell_type": "code",
   "execution_count": 24,
   "id": "22531ed6",
   "metadata": {
    "execution": {
     "iopub.execute_input": "2025-01-11T08:00:46.782757Z",
     "iopub.status.busy": "2025-01-11T08:00:46.782434Z",
     "iopub.status.idle": "2025-01-11T08:00:46.788979Z",
     "shell.execute_reply": "2025-01-11T08:00:46.788039Z"
    },
    "papermill": {
     "duration": 0.018775,
     "end_time": "2025-01-11T08:00:46.790739",
     "exception": false,
     "start_time": "2025-01-11T08:00:46.771964",
     "status": "completed"
    },
    "tags": []
   },
   "outputs": [],
   "source": [
    "from sklearn.preprocessing import LabelEncoder\n",
    "encoder = LabelEncoder()\n",
    "y=encoder.fit_transform(y)"
   ]
  },
  {
   "cell_type": "code",
   "execution_count": 25,
   "id": "47442d2e",
   "metadata": {
    "execution": {
     "iopub.execute_input": "2025-01-11T08:00:46.811972Z",
     "iopub.status.busy": "2025-01-11T08:00:46.811550Z",
     "iopub.status.idle": "2025-01-11T08:00:46.819951Z",
     "shell.execute_reply": "2025-01-11T08:00:46.819004Z"
    },
    "papermill": {
     "duration": 0.020546,
     "end_time": "2025-01-11T08:00:46.821629",
     "exception": false,
     "start_time": "2025-01-11T08:00:46.801083",
     "status": "completed"
    },
    "tags": []
   },
   "outputs": [],
   "source": [
    "from sklearn.model_selection import train_test_split\n",
    "x_train,x_test,y_train,y_test = train_test_split(x,y,test_size=0.2,random_state=1)"
   ]
  },
  {
   "cell_type": "code",
   "execution_count": 26,
   "id": "67940589",
   "metadata": {
    "execution": {
     "iopub.execute_input": "2025-01-11T08:00:46.842335Z",
     "iopub.status.busy": "2025-01-11T08:00:46.841968Z",
     "iopub.status.idle": "2025-01-11T08:00:46.847456Z",
     "shell.execute_reply": "2025-01-11T08:00:46.846383Z"
    },
    "papermill": {
     "duration": 0.017743,
     "end_time": "2025-01-11T08:00:46.849150",
     "exception": false,
     "start_time": "2025-01-11T08:00:46.831407",
     "status": "completed"
    },
    "tags": []
   },
   "outputs": [
    {
     "data": {
      "text/plain": [
       "(7986, 1)"
      ]
     },
     "execution_count": 26,
     "metadata": {},
     "output_type": "execute_result"
    }
   ],
   "source": [
    "x_train.shape"
   ]
  },
  {
   "cell_type": "code",
   "execution_count": 27,
   "id": "665692f9",
   "metadata": {
    "execution": {
     "iopub.execute_input": "2025-01-11T08:00:46.870438Z",
     "iopub.status.busy": "2025-01-11T08:00:46.870107Z",
     "iopub.status.idle": "2025-01-11T08:00:46.875705Z",
     "shell.execute_reply": "2025-01-11T08:00:46.874824Z"
    },
    "papermill": {
     "duration": 0.018183,
     "end_time": "2025-01-11T08:00:46.877588",
     "exception": false,
     "start_time": "2025-01-11T08:00:46.859405",
     "status": "completed"
    },
    "tags": []
   },
   "outputs": [
    {
     "data": {
      "text/plain": [
       "(1997, 1)"
      ]
     },
     "execution_count": 27,
     "metadata": {},
     "output_type": "execute_result"
    }
   ],
   "source": [
    "x_test.shape"
   ]
  },
  {
   "cell_type": "markdown",
   "id": "61d190aa",
   "metadata": {
    "papermill": {
     "duration": 0.009815,
     "end_time": "2025-01-11T08:00:46.897386",
     "exception": false,
     "start_time": "2025-01-11T08:00:46.887571",
     "status": "completed"
    },
    "tags": []
   },
   "source": [
    "## BoW"
   ]
  },
  {
   "cell_type": "code",
   "execution_count": 28,
   "id": "0198886d",
   "metadata": {
    "execution": {
     "iopub.execute_input": "2025-01-11T08:00:46.918161Z",
     "iopub.status.busy": "2025-01-11T08:00:46.917773Z",
     "iopub.status.idle": "2025-01-11T08:00:46.921956Z",
     "shell.execute_reply": "2025-01-11T08:00:46.921014Z"
    },
    "papermill": {
     "duration": 0.01643,
     "end_time": "2025-01-11T08:00:46.923515",
     "exception": false,
     "start_time": "2025-01-11T08:00:46.907085",
     "status": "completed"
    },
    "tags": []
   },
   "outputs": [],
   "source": [
    "from sklearn.feature_extraction.text import CountVectorizer\n",
    "cv=CountVectorizer()"
   ]
  },
  {
   "cell_type": "code",
   "execution_count": 29,
   "id": "de4cf6d7",
   "metadata": {
    "execution": {
     "iopub.execute_input": "2025-01-11T08:00:46.944120Z",
     "iopub.status.busy": "2025-01-11T08:00:46.943564Z",
     "iopub.status.idle": "2025-01-11T08:00:50.034221Z",
     "shell.execute_reply": "2025-01-11T08:00:50.033070Z"
    },
    "papermill": {
     "duration": 3.104803,
     "end_time": "2025-01-11T08:00:50.038014",
     "exception": false,
     "start_time": "2025-01-11T08:00:46.933211",
     "status": "completed"
    },
    "tags": []
   },
   "outputs": [],
   "source": [
    "x_train_bow = cv.fit_transform(x_train['review']).toarray()\n",
    "x_test_bow = cv.transform(x_test['review']).toarray()"
   ]
  },
  {
   "cell_type": "code",
   "execution_count": 30,
   "id": "aed8b791",
   "metadata": {
    "execution": {
     "iopub.execute_input": "2025-01-11T08:00:50.062605Z",
     "iopub.status.busy": "2025-01-11T08:00:50.062225Z",
     "iopub.status.idle": "2025-01-11T08:00:50.068264Z",
     "shell.execute_reply": "2025-01-11T08:00:50.067268Z"
    },
    "papermill": {
     "duration": 0.021067,
     "end_time": "2025-01-11T08:00:50.070014",
     "exception": false,
     "start_time": "2025-01-11T08:00:50.048947",
     "status": "completed"
    },
    "tags": []
   },
   "outputs": [
    {
     "data": {
      "text/plain": [
       "array([[0, 0, 0, ..., 0, 0, 0],\n",
       "       [0, 0, 0, ..., 0, 0, 0],\n",
       "       [0, 0, 0, ..., 0, 0, 0],\n",
       "       ...,\n",
       "       [0, 0, 0, ..., 0, 0, 0],\n",
       "       [0, 0, 0, ..., 0, 0, 0],\n",
       "       [0, 0, 0, ..., 0, 0, 0]])"
      ]
     },
     "execution_count": 30,
     "metadata": {},
     "output_type": "execute_result"
    }
   ],
   "source": [
    "x_train_bow"
   ]
  },
  {
   "cell_type": "code",
   "execution_count": 31,
   "id": "b425fb21",
   "metadata": {
    "execution": {
     "iopub.execute_input": "2025-01-11T08:00:50.094636Z",
     "iopub.status.busy": "2025-01-11T08:00:50.094253Z",
     "iopub.status.idle": "2025-01-11T08:00:57.488472Z",
     "shell.execute_reply": "2025-01-11T08:00:57.487410Z"
    },
    "papermill": {
     "duration": 7.409216,
     "end_time": "2025-01-11T08:00:57.490304",
     "exception": false,
     "start_time": "2025-01-11T08:00:50.081088",
     "status": "completed"
    },
    "tags": []
   },
   "outputs": [
    {
     "data": {
      "text/html": [
       "<style>#sk-container-id-1 {color: black;background-color: white;}#sk-container-id-1 pre{padding: 0;}#sk-container-id-1 div.sk-toggleable {background-color: white;}#sk-container-id-1 label.sk-toggleable__label {cursor: pointer;display: block;width: 100%;margin-bottom: 0;padding: 0.3em;box-sizing: border-box;text-align: center;}#sk-container-id-1 label.sk-toggleable__label-arrow:before {content: \"▸\";float: left;margin-right: 0.25em;color: #696969;}#sk-container-id-1 label.sk-toggleable__label-arrow:hover:before {color: black;}#sk-container-id-1 div.sk-estimator:hover label.sk-toggleable__label-arrow:before {color: black;}#sk-container-id-1 div.sk-toggleable__content {max-height: 0;max-width: 0;overflow: hidden;text-align: left;background-color: #f0f8ff;}#sk-container-id-1 div.sk-toggleable__content pre {margin: 0.2em;color: black;border-radius: 0.25em;background-color: #f0f8ff;}#sk-container-id-1 input.sk-toggleable__control:checked~div.sk-toggleable__content {max-height: 200px;max-width: 100%;overflow: auto;}#sk-container-id-1 input.sk-toggleable__control:checked~label.sk-toggleable__label-arrow:before {content: \"▾\";}#sk-container-id-1 div.sk-estimator input.sk-toggleable__control:checked~label.sk-toggleable__label {background-color: #d4ebff;}#sk-container-id-1 div.sk-label input.sk-toggleable__control:checked~label.sk-toggleable__label {background-color: #d4ebff;}#sk-container-id-1 input.sk-hidden--visually {border: 0;clip: rect(1px 1px 1px 1px);clip: rect(1px, 1px, 1px, 1px);height: 1px;margin: -1px;overflow: hidden;padding: 0;position: absolute;width: 1px;}#sk-container-id-1 div.sk-estimator {font-family: monospace;background-color: #f0f8ff;border: 1px dotted black;border-radius: 0.25em;box-sizing: border-box;margin-bottom: 0.5em;}#sk-container-id-1 div.sk-estimator:hover {background-color: #d4ebff;}#sk-container-id-1 div.sk-parallel-item::after {content: \"\";width: 100%;border-bottom: 1px solid gray;flex-grow: 1;}#sk-container-id-1 div.sk-label:hover label.sk-toggleable__label {background-color: #d4ebff;}#sk-container-id-1 div.sk-serial::before {content: \"\";position: absolute;border-left: 1px solid gray;box-sizing: border-box;top: 0;bottom: 0;left: 50%;z-index: 0;}#sk-container-id-1 div.sk-serial {display: flex;flex-direction: column;align-items: center;background-color: white;padding-right: 0.2em;padding-left: 0.2em;position: relative;}#sk-container-id-1 div.sk-item {position: relative;z-index: 1;}#sk-container-id-1 div.sk-parallel {display: flex;align-items: stretch;justify-content: center;background-color: white;position: relative;}#sk-container-id-1 div.sk-item::before, #sk-container-id-1 div.sk-parallel-item::before {content: \"\";position: absolute;border-left: 1px solid gray;box-sizing: border-box;top: 0;bottom: 0;left: 50%;z-index: -1;}#sk-container-id-1 div.sk-parallel-item {display: flex;flex-direction: column;z-index: 1;position: relative;background-color: white;}#sk-container-id-1 div.sk-parallel-item:first-child::after {align-self: flex-end;width: 50%;}#sk-container-id-1 div.sk-parallel-item:last-child::after {align-self: flex-start;width: 50%;}#sk-container-id-1 div.sk-parallel-item:only-child::after {width: 0;}#sk-container-id-1 div.sk-dashed-wrapped {border: 1px dashed gray;margin: 0 0.4em 0.5em 0.4em;box-sizing: border-box;padding-bottom: 0.4em;background-color: white;}#sk-container-id-1 div.sk-label label {font-family: monospace;font-weight: bold;display: inline-block;line-height: 1.2em;}#sk-container-id-1 div.sk-label-container {text-align: center;}#sk-container-id-1 div.sk-container {/* jupyter's `normalize.less` sets `[hidden] { display: none; }` but bootstrap.min.css set `[hidden] { display: none !important; }` so we also need the `!important` here to be able to override the default hidden behavior on the sphinx rendered scikit-learn.org. See: https://github.com/scikit-learn/scikit-learn/issues/21755 */display: inline-block !important;position: relative;}#sk-container-id-1 div.sk-text-repr-fallback {display: none;}</style><div id=\"sk-container-id-1\" class=\"sk-top-container\"><div class=\"sk-text-repr-fallback\"><pre>GaussianNB()</pre><b>In a Jupyter environment, please rerun this cell to show the HTML representation or trust the notebook. <br />On GitHub, the HTML representation is unable to render, please try loading this page with nbviewer.org.</b></div><div class=\"sk-container\" hidden><div class=\"sk-item\"><div class=\"sk-estimator sk-toggleable\"><input class=\"sk-toggleable__control sk-hidden--visually\" id=\"sk-estimator-id-1\" type=\"checkbox\" checked><label for=\"sk-estimator-id-1\" class=\"sk-toggleable__label sk-toggleable__label-arrow\">GaussianNB</label><div class=\"sk-toggleable__content\"><pre>GaussianNB()</pre></div></div></div></div></div>"
      ],
      "text/plain": [
       "GaussianNB()"
      ]
     },
     "execution_count": 31,
     "metadata": {},
     "output_type": "execute_result"
    }
   ],
   "source": [
    "from sklearn.naive_bayes import GaussianNB\n",
    "\n",
    "gnb = GaussianNB()\n",
    "gnb.fit(x_train_bow, y_train)"
   ]
  },
  {
   "cell_type": "code",
   "execution_count": 32,
   "id": "4e5bf747",
   "metadata": {
    "execution": {
     "iopub.execute_input": "2025-01-11T08:00:57.512657Z",
     "iopub.status.busy": "2025-01-11T08:00:57.512307Z",
     "iopub.status.idle": "2025-01-11T08:00:59.125501Z",
     "shell.execute_reply": "2025-01-11T08:00:59.124444Z"
    },
    "papermill": {
     "duration": 1.626402,
     "end_time": "2025-01-11T08:00:59.127597",
     "exception": false,
     "start_time": "2025-01-11T08:00:57.501195",
     "status": "completed"
    },
    "tags": []
   },
   "outputs": [],
   "source": [
    "y_pred = gnb.predict(x_test_bow)"
   ]
  },
  {
   "cell_type": "code",
   "execution_count": 33,
   "id": "87cf56e6",
   "metadata": {
    "execution": {
     "iopub.execute_input": "2025-01-11T08:00:59.153136Z",
     "iopub.status.busy": "2025-01-11T08:00:59.152694Z",
     "iopub.status.idle": "2025-01-11T08:00:59.160619Z",
     "shell.execute_reply": "2025-01-11T08:00:59.159492Z"
    },
    "papermill": {
     "duration": 0.021998,
     "end_time": "2025-01-11T08:00:59.162542",
     "exception": false,
     "start_time": "2025-01-11T08:00:59.140544",
     "status": "completed"
    },
    "tags": []
   },
   "outputs": [
    {
     "data": {
      "text/plain": [
       "0.6324486730095142"
      ]
     },
     "execution_count": 33,
     "metadata": {},
     "output_type": "execute_result"
    }
   ],
   "source": [
    "from sklearn.metrics import accuracy_score, confusion_matrix\n",
    "accuracy_score(y_test, y_pred)"
   ]
  },
  {
   "cell_type": "code",
   "execution_count": 34,
   "id": "f56a6a81",
   "metadata": {
    "execution": {
     "iopub.execute_input": "2025-01-11T08:00:59.186224Z",
     "iopub.status.busy": "2025-01-11T08:00:59.185814Z",
     "iopub.status.idle": "2025-01-11T08:00:59.193929Z",
     "shell.execute_reply": "2025-01-11T08:00:59.192656Z"
    },
    "papermill": {
     "duration": 0.022853,
     "end_time": "2025-01-11T08:00:59.195987",
     "exception": false,
     "start_time": "2025-01-11T08:00:59.173134",
     "status": "completed"
    },
    "tags": []
   },
   "outputs": [
    {
     "data": {
      "text/plain": [
       "array([[717, 235],\n",
       "       [499, 546]])"
      ]
     },
     "execution_count": 34,
     "metadata": {},
     "output_type": "execute_result"
    }
   ],
   "source": [
    "confusion_matrix(y_test, y_pred)"
   ]
  },
  {
   "cell_type": "code",
   "execution_count": 35,
   "id": "b12bfef5",
   "metadata": {
    "execution": {
     "iopub.execute_input": "2025-01-11T08:00:59.220936Z",
     "iopub.status.busy": "2025-01-11T08:00:59.220435Z",
     "iopub.status.idle": "2025-01-11T08:02:13.827257Z",
     "shell.execute_reply": "2025-01-11T08:02:13.825982Z"
    },
    "papermill": {
     "duration": 74.631237,
     "end_time": "2025-01-11T08:02:13.839197",
     "exception": false,
     "start_time": "2025-01-11T08:00:59.207960",
     "status": "completed"
    },
    "tags": []
   },
   "outputs": [
    {
     "data": {
      "text/plain": [
       "0.8502754131196795"
      ]
     },
     "execution_count": 35,
     "metadata": {},
     "output_type": "execute_result"
    }
   ],
   "source": [
    "from sklearn.ensemble import RandomForestClassifier\n",
    "rf = RandomForestClassifier()\n",
    "\n",
    "rf.fit(x_train_bow, y_train)\n",
    "y_pred = rf.predict(x_test_bow)\n",
    "\n",
    "accuracy_score(y_test, y_pred)"
   ]
  },
  {
   "cell_type": "markdown",
   "id": "934e9197",
   "metadata": {
    "papermill": {
     "duration": 0.009887,
     "end_time": "2025-01-11T08:02:13.859200",
     "exception": false,
     "start_time": "2025-01-11T08:02:13.849313",
     "status": "completed"
    },
    "tags": []
   },
   "source": [
    "## n-grams"
   ]
  },
  {
   "cell_type": "code",
   "execution_count": 36,
   "id": "225f7ab0",
   "metadata": {
    "execution": {
     "iopub.execute_input": "2025-01-11T08:02:13.880738Z",
     "iopub.status.busy": "2025-01-11T08:02:13.880388Z",
     "iopub.status.idle": "2025-01-11T08:03:36.491600Z",
     "shell.execute_reply": "2025-01-11T08:03:36.490406Z"
    },
    "papermill": {
     "duration": 82.633974,
     "end_time": "2025-01-11T08:03:36.503305",
     "exception": false,
     "start_time": "2025-01-11T08:02:13.869331",
     "status": "completed"
    },
    "tags": []
   },
   "outputs": [
    {
     "data": {
      "text/plain": [
       "0.7506259389083625"
      ]
     },
     "execution_count": 36,
     "metadata": {},
     "output_type": "execute_result"
    }
   ],
   "source": [
    "cv = CountVectorizer(ngram_range =(2,2), max_features = 5000)\n",
    "x_train_bow = cv.fit_transform(x_train['review']).toarray()\n",
    "x_test_bow = cv.transform(x_test['review']).toarray()\n",
    "\n",
    "rf = RandomForestClassifier()\n",
    "\n",
    "rf.fit(x_train_bow, y_train)\n",
    "y_pred = rf.predict(x_test_bow)\n",
    "\n",
    "accuracy_score(y_test, y_pred)"
   ]
  },
  {
   "cell_type": "markdown",
   "id": "7e24db0c",
   "metadata": {
    "papermill": {
     "duration": 0.010214,
     "end_time": "2025-01-11T08:03:36.524020",
     "exception": false,
     "start_time": "2025-01-11T08:03:36.513806",
     "status": "completed"
    },
    "tags": []
   },
   "source": [
    "## TF-IDF"
   ]
  },
  {
   "cell_type": "code",
   "execution_count": 37,
   "id": "bfda4901",
   "metadata": {
    "execution": {
     "iopub.execute_input": "2025-01-11T08:03:36.547727Z",
     "iopub.status.busy": "2025-01-11T08:03:36.547390Z",
     "iopub.status.idle": "2025-01-11T08:03:36.551541Z",
     "shell.execute_reply": "2025-01-11T08:03:36.550508Z"
    },
    "papermill": {
     "duration": 0.017349,
     "end_time": "2025-01-11T08:03:36.553223",
     "exception": false,
     "start_time": "2025-01-11T08:03:36.535874",
     "status": "completed"
    },
    "tags": []
   },
   "outputs": [],
   "source": [
    "from sklearn.feature_extraction.text import TfidfVectorizer\n",
    "tfidf = TfidfVectorizer()"
   ]
  },
  {
   "cell_type": "code",
   "execution_count": 38,
   "id": "d9d5edf1",
   "metadata": {
    "execution": {
     "iopub.execute_input": "2025-01-11T08:03:36.575520Z",
     "iopub.status.busy": "2025-01-11T08:03:36.575201Z",
     "iopub.status.idle": "2025-01-11T08:03:40.504261Z",
     "shell.execute_reply": "2025-01-11T08:03:40.503119Z"
    },
    "papermill": {
     "duration": 3.942479,
     "end_time": "2025-01-11T08:03:40.506322",
     "exception": false,
     "start_time": "2025-01-11T08:03:36.563843",
     "status": "completed"
    },
    "tags": []
   },
   "outputs": [],
   "source": [
    "x_train_tfidf = tfidf.fit_transform(x_train['review']).toarray()\n",
    "x_test_tfidf = tfidf.transform(x_test['review'])"
   ]
  },
  {
   "cell_type": "code",
   "execution_count": 39,
   "id": "701ef8a5",
   "metadata": {
    "execution": {
     "iopub.execute_input": "2025-01-11T08:03:40.529659Z",
     "iopub.status.busy": "2025-01-11T08:03:40.529323Z",
     "iopub.status.idle": "2025-01-11T08:04:59.074136Z",
     "shell.execute_reply": "2025-01-11T08:04:59.073094Z"
    },
    "papermill": {
     "duration": 78.568749,
     "end_time": "2025-01-11T08:04:59.085763",
     "exception": false,
     "start_time": "2025-01-11T08:03:40.517014",
     "status": "completed"
    },
    "tags": []
   },
   "outputs": [
    {
     "data": {
      "text/plain": [
       "0.7506259389083625"
      ]
     },
     "execution_count": 39,
     "metadata": {},
     "output_type": "execute_result"
    }
   ],
   "source": [
    "rf = RandomForestClassifier()\n",
    "\n",
    "rf.fit(x_train_bow, y_train)\n",
    "y_pred = rf.predict(x_test_bow)\n",
    "\n",
    "accuracy_score(y_test, y_pred)"
   ]
  }
 ],
 "metadata": {
  "kaggle": {
   "accelerator": "none",
   "dataSources": [
    {
     "datasetId": 134715,
     "sourceId": 320111,
     "sourceType": "datasetVersion"
    }
   ],
   "dockerImageVersionId": 30822,
   "isGpuEnabled": false,
   "isInternetEnabled": true,
   "language": "python",
   "sourceType": "notebook"
  },
  "kernelspec": {
   "display_name": "Python 3",
   "language": "python",
   "name": "python3"
  },
  "language_info": {
   "codemirror_mode": {
    "name": "ipython",
    "version": 3
   },
   "file_extension": ".py",
   "mimetype": "text/x-python",
   "name": "python",
   "nbconvert_exporter": "python",
   "pygments_lexer": "ipython3",
   "version": "3.10.12"
  },
  "papermill": {
   "default_parameters": {},
   "duration": 265.37813,
   "end_time": "2025-01-11T08:05:00.319806",
   "environment_variables": {},
   "exception": null,
   "input_path": "__notebook__.ipynb",
   "output_path": "__notebook__.ipynb",
   "parameters": {},
   "start_time": "2025-01-11T08:00:34.941676",
   "version": "2.6.0"
  }
 },
 "nbformat": 4,
 "nbformat_minor": 5
}
